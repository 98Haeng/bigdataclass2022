{
 "cells": [
  {
   "cell_type": "code",
   "execution_count": 8,
   "metadata": {},
   "outputs": [
    {
     "data": {
      "text/html": [
       "<div>\n",
       "<style scoped>\n",
       "    .dataframe tbody tr th:only-of-type {\n",
       "        vertical-align: middle;\n",
       "    }\n",
       "\n",
       "    .dataframe tbody tr th {\n",
       "        vertical-align: top;\n",
       "    }\n",
       "\n",
       "    .dataframe thead th {\n",
       "        text-align: right;\n",
       "    }\n",
       "</style>\n",
       "<table border=\"1\" class=\"dataframe\">\n",
       "  <thead>\n",
       "    <tr style=\"text-align: right;\">\n",
       "      <th></th>\n",
       "      <th>관광지</th>\n",
       "      <th>전체내용</th>\n",
       "    </tr>\n",
       "  </thead>\n",
       "  <tbody>\n",
       "    <tr>\n",
       "      <th>0</th>\n",
       "      <td>경복궁</td>\n",
       "      <td>대한민국의 역사 : 대한민국의 역사가 잠들어 있는 곳. 서울을 방문했다면 꼭 방문해...</td>\n",
       "    </tr>\n",
       "    <tr>\n",
       "      <th>1</th>\n",
       "      <td>경복궁</td>\n",
       "      <td>국민이 공감하는 장소 : 경복궁은 국민들이 자주 찾는곳으로 작성자는 주말에 자주 가...</td>\n",
       "    </tr>\n",
       "    <tr>\n",
       "      <th>2</th>\n",
       "      <td>경복궁</td>\n",
       "      <td>산책하기 좋은 경복궁 : 날씨 좋은 날 종종 산책하러 경복궁에 가는데 마음이 편온해...</td>\n",
       "    </tr>\n",
       "    <tr>\n",
       "      <th>3</th>\n",
       "      <td>경복궁</td>\n",
       "      <td>Good : Goooooood 다 좋습니다 다음에 또 오고 싶네요 근처 관광지도많고...</td>\n",
       "    </tr>\n",
       "    <tr>\n",
       "      <th>4</th>\n",
       "      <td>경복궁</td>\n",
       "      <td>가족단위로 방문하기 좋은곳 : 요새 더더욱 코로나로 인해 사람 방문이 적음. 두자녀...</td>\n",
       "    </tr>\n",
       "  </tbody>\n",
       "</table>\n",
       "</div>"
      ],
      "text/plain": [
       "   관광지                                               전체내용\n",
       "0  경복궁  대한민국의 역사 : 대한민국의 역사가 잠들어 있는 곳. 서울을 방문했다면 꼭 방문해...\n",
       "1  경복궁  국민이 공감하는 장소 : 경복궁은 국민들이 자주 찾는곳으로 작성자는 주말에 자주 가...\n",
       "2  경복궁  산책하기 좋은 경복궁 : 날씨 좋은 날 종종 산책하러 경복궁에 가는데 마음이 편온해...\n",
       "3  경복궁  Good : Goooooood 다 좋습니다 다음에 또 오고 싶네요 근처 관광지도많고...\n",
       "4  경복궁  가족단위로 방문하기 좋은곳 : 요새 더더욱 코로나로 인해 사람 방문이 적음. 두자녀..."
      ]
     },
     "execution_count": 8,
     "metadata": {},
     "output_type": "execute_result"
    }
   ],
   "source": [
    "import pandas as pd\n",
    "import numpy as np\n",
    "data=pd.read_csv('지이인짜최종리뷰데이터.csv')\n",
    "data.head()"
   ]
  },
  {
   "cell_type": "code",
   "execution_count": 2,
   "metadata": {},
   "outputs": [],
   "source": [
    "import requests\n",
    "import pandas as pd\n",
    "from bs4 import BeautifulSoup\n",
    "import re\n",
    "\n",
    "pres=['https://movie.naver.com/movie/bi/mi/pointWriteFormList.naver?code=72054&type=after&onlyActualPointYn=N&onlySpoilerPointYn=N&order=sympathyScore&page=',\n",
    "     'https://movie.naver.com/movie/bi/mi/pointWriteFormList.naver?code=72054&type=after&onlyActualPointYn=N&onlySpoilerPointYn=N&order=lowest&page=']\n",
    "\n",
    "review=[]\n",
    "rate=[]\n",
    "target=[]\n",
    "\n",
    "for pre in pres:\n",
    "    for i in range(1,150):\n",
    "        url=pre+str(i)\n",
    "        res=requests.get(url)\n",
    "        soup=BeautifulSoup(res.content,'html.parser')\n",
    "    \n",
    "        id_list=[]\n",
    "        id_pre='_filtered_ment_'\n",
    "    \n",
    "        for i in range(10):\n",
    "            id_list.append(id_pre+str(i))\n",
    "        \n",
    "        for id in id_list:\n",
    "            review.append(soup.find('span',{'id':id}).get_text().strip())\n",
    "            \n",
    "        rate_list=[]\n",
    "        rate_list=(soup.select('div.star_score > em'))\n",
    "        \n",
    "        for i in range(10):\n",
    "            r=int(re.sub('<.+?>','',str(rate_list[i])))\n",
    "            rate.append(r)\n",
    "            if r >= 8:\n",
    "                target.append(1)\n",
    "            elif r<=4:\n",
    "                target.append(0)\n",
    "            else:\n",
    "                target.append(-1)\n",
    "                \n",
    "df=pd.DataFrame({'review':review,'rate':rate,'target':target})"
   ]
  },
  {
   "cell_type": "code",
   "execution_count": 3,
   "metadata": {},
   "outputs": [
    {
     "data": {
      "text/html": [
       "<div>\n",
       "<style scoped>\n",
       "    .dataframe tbody tr th:only-of-type {\n",
       "        vertical-align: middle;\n",
       "    }\n",
       "\n",
       "    .dataframe tbody tr th {\n",
       "        vertical-align: top;\n",
       "    }\n",
       "\n",
       "    .dataframe thead th {\n",
       "        text-align: right;\n",
       "    }\n",
       "</style>\n",
       "<table border=\"1\" class=\"dataframe\">\n",
       "  <thead>\n",
       "    <tr style=\"text-align: right;\">\n",
       "      <th></th>\n",
       "      <th>review</th>\n",
       "      <th>rate</th>\n",
       "      <th>target</th>\n",
       "    </tr>\n",
       "  </thead>\n",
       "  <tbody>\n",
       "    <tr>\n",
       "      <th>0</th>\n",
       "      <td>돈보다 영화가 아까운 사례</td>\n",
       "      <td>10</td>\n",
       "      <td>1</td>\n",
       "    </tr>\n",
       "    <tr>\n",
       "      <th>1</th>\n",
       "      <td>히어로 영화중 가장 최고는 바로 배트맨시리즈...  더이상 크리스찬베일의 배트맨을 ...</td>\n",
       "      <td>10</td>\n",
       "      <td>1</td>\n",
       "    </tr>\n",
       "    <tr>\n",
       "      <th>2</th>\n",
       "      <td>전작에 비해 약간 부족한면도 잇지만 히어로시리즈 중의 명작임은 분명하다</td>\n",
       "      <td>10</td>\n",
       "      <td>1</td>\n",
       "    </tr>\n",
       "    <tr>\n",
       "      <th>3</th>\n",
       "      <td>영화의예술로 시작해(비긴즈)  영화의상징이되어(다크나이트) 영화의전설(라이즈)로 끝나다</td>\n",
       "      <td>10</td>\n",
       "      <td>1</td>\n",
       "    </tr>\n",
       "    <tr>\n",
       "      <th>4</th>\n",
       "      <td>이 영화가 10점이 아니라면 10점짜리 영화는 없다.</td>\n",
       "      <td>10</td>\n",
       "      <td>1</td>\n",
       "    </tr>\n",
       "    <tr>\n",
       "      <th>...</th>\n",
       "      <td>...</td>\n",
       "      <td>...</td>\n",
       "      <td>...</td>\n",
       "    </tr>\n",
       "    <tr>\n",
       "      <th>2975</th>\n",
       "      <td>난 왜 베트맨 스리즈가 재미가 없지??  이영화도 언제부터 재밌어질까 기다렸는데 끝...</td>\n",
       "      <td>5</td>\n",
       "      <td>-1</td>\n",
       "    </tr>\n",
       "    <tr>\n",
       "      <th>2976</th>\n",
       "      <td>진짜 베인이랑 배트맨 때문에 볼려다가 앤 해서웨이 나오고 나서 바로 끔 , 이쁜척 ...</td>\n",
       "      <td>5</td>\n",
       "      <td>-1</td>\n",
       "    </tr>\n",
       "    <tr>\n",
       "      <th>2977</th>\n",
       "      <td>조커가 너무 쎘어...</td>\n",
       "      <td>5</td>\n",
       "      <td>-1</td>\n",
       "    </tr>\n",
       "    <tr>\n",
       "      <th>2978</th>\n",
       "      <td>나만 재미없고 지루한건가..두번을 봣지만 두번다 졸리는..</td>\n",
       "      <td>5</td>\n",
       "      <td>-1</td>\n",
       "    </tr>\n",
       "    <tr>\n",
       "      <th>2979</th>\n",
       "      <td>블럭버스터?? 감상주의에 젖은 너무도 지루한 드라마...</td>\n",
       "      <td>5</td>\n",
       "      <td>-1</td>\n",
       "    </tr>\n",
       "  </tbody>\n",
       "</table>\n",
       "<p>2980 rows × 3 columns</p>\n",
       "</div>"
      ],
      "text/plain": [
       "                                                 review  rate  target\n",
       "0                                        돈보다 영화가 아까운 사례    10       1\n",
       "1     히어로 영화중 가장 최고는 바로 배트맨시리즈...  더이상 크리스찬베일의 배트맨을 ...    10       1\n",
       "2               전작에 비해 약간 부족한면도 잇지만 히어로시리즈 중의 명작임은 분명하다    10       1\n",
       "3      영화의예술로 시작해(비긴즈)  영화의상징이되어(다크나이트) 영화의전설(라이즈)로 끝나다    10       1\n",
       "4                         이 영화가 10점이 아니라면 10점짜리 영화는 없다.    10       1\n",
       "...                                                 ...   ...     ...\n",
       "2975  난 왜 베트맨 스리즈가 재미가 없지??  이영화도 언제부터 재밌어질까 기다렸는데 끝...     5      -1\n",
       "2976  진짜 베인이랑 배트맨 때문에 볼려다가 앤 해서웨이 나오고 나서 바로 끔 , 이쁜척 ...     5      -1\n",
       "2977                                       조커가 너무 쎘어...     5      -1\n",
       "2978                   나만 재미없고 지루한건가..두번을 봣지만 두번다 졸리는..     5      -1\n",
       "2979                    블럭버스터?? 감상주의에 젖은 너무도 지루한 드라마...     5      -1\n",
       "\n",
       "[2980 rows x 3 columns]"
      ]
     },
     "execution_count": 3,
     "metadata": {},
     "output_type": "execute_result"
    }
   ],
   "source": [
    "df"
   ]
  },
  {
   "cell_type": "code",
   "execution_count": 4,
   "metadata": {},
   "outputs": [],
   "source": [
    "from sklearn.model_selection import train_test_split\n",
    "\n",
    "train_x,test_x,train_y,test_y=train_test_split(review,target,test_size=0.2,random_state=0)"
   ]
  },
  {
   "cell_type": "code",
   "execution_count": 5,
   "metadata": {},
   "outputs": [
    {
     "name": "stderr",
     "output_type": "stream",
     "text": [
      "C:\\anaconda\\lib\\site-packages\\sklearn\\feature_extraction\\text.py:484: UserWarning: The parameter 'token_pattern' will not be used since 'tokenizer' is not None'\n",
      "  warnings.warn(\"The parameter 'token_pattern' will not be used\"\n"
     ]
    },
    {
     "data": {
      "text/plain": [
       "<2384x3676 sparse matrix of type '<class 'numpy.float64'>'\n",
       "\twith 42983 stored elements in Compressed Sparse Row format>"
      ]
     },
     "execution_count": 5,
     "metadata": {},
     "output_type": "execute_result"
    }
   ],
   "source": [
    "# 텍스트 데이터 벡터화\n",
    "\n",
    "from konlpy.tag import Okt\n",
    "from sklearn.feature_extraction.text import TfidfVectorizer\n",
    "okt=Okt()\n",
    "\n",
    "tfv=TfidfVectorizer(tokenizer=okt.morphs, ngram_range=(1,2),min_df=3,max_df=0.9)\n",
    "tfv.fit(train_x) # 모델 적합\n",
    "\n",
    "tfv_train_x=tfv.transform(train_x)\n",
    "tfv_train_x"
   ]
  },
  {
   "cell_type": "code",
   "execution_count": 6,
   "metadata": {},
   "outputs": [
    {
     "name": "stdout",
     "output_type": "stream",
     "text": [
      "Fitting 4 folds for each of 5 candidates, totalling 20 fits\n"
     ]
    },
    {
     "name": "stderr",
     "output_type": "stream",
     "text": [
      "[Parallel(n_jobs=1)]: Using backend SequentialBackend with 1 concurrent workers.\n",
      "[Parallel(n_jobs=1)]: Done  20 out of  20 | elapsed:    3.4s finished\n"
     ]
    },
    {
     "data": {
      "text/plain": [
       "GridSearchCV(cv=4, estimator=LogisticRegression(random_state=0),\n",
       "             param_grid={'C': [1, 3, 5, 7, 9]}, scoring='accuracy', verbose=1)"
      ]
     },
     "execution_count": 6,
     "metadata": {},
     "output_type": "execute_result"
    }
   ],
   "source": [
    "# 로지스틱 회귀모형으로 모델 적합\n",
    "\n",
    "from sklearn.linear_model import LogisticRegression\n",
    "from sklearn.model_selection import GridSearchCV\n",
    "\n",
    "clf=LogisticRegression(random_state=0)\n",
    "params={'C':[1,3,5,7,9]}\n",
    "grid_cv=GridSearchCV(clf,param_grid=params,cv=4,scoring='accuracy',verbose=1)\n",
    "grid_cv.fit(tfv_train_x,train_y) # 모델 적합"
   ]
  },
  {
   "cell_type": "code",
   "execution_count": 7,
   "metadata": {},
   "outputs": [
    {
     "data": {
      "text/plain": [
       "0.8741610738255033"
      ]
     },
     "execution_count": 7,
     "metadata": {},
     "output_type": "execute_result"
    }
   ],
   "source": [
    "# 테스트 데이터를 통한 예측 정확도 산출\n",
    "tfv_test_x=tfv.transform(test_x)\n",
    "grid_cv.best_estimator_.score(tfv_test_x,test_y)"
   ]
  },
  {
   "cell_type": "code",
   "execution_count": 18,
   "metadata": {},
   "outputs": [],
   "source": [
    "reviews=list(data.전체내용)\n",
    "\n",
    "results=[]\n",
    "for i in range(len(reviews)):\n",
    "    review=reviews[i]\n",
    "    my_review=tfv.transform([review])\n",
    "    if (grid_cv.best_estimator_.predict(my_review)):\n",
    "#         print('긍정리뷰')\n",
    "        results.append('긍정리뷰')\n",
    "    else:\n",
    "        results.append('부정리뷰')"
   ]
  },
  {
   "cell_type": "code",
   "execution_count": 19,
   "metadata": {},
   "outputs": [
    {
     "data": {
      "text/html": [
       "<div>\n",
       "<style scoped>\n",
       "    .dataframe tbody tr th:only-of-type {\n",
       "        vertical-align: middle;\n",
       "    }\n",
       "\n",
       "    .dataframe tbody tr th {\n",
       "        vertical-align: top;\n",
       "    }\n",
       "\n",
       "    .dataframe thead th {\n",
       "        text-align: right;\n",
       "    }\n",
       "</style>\n",
       "<table border=\"1\" class=\"dataframe\">\n",
       "  <thead>\n",
       "    <tr style=\"text-align: right;\">\n",
       "      <th></th>\n",
       "      <th>리뷰</th>\n",
       "      <th>평가</th>\n",
       "    </tr>\n",
       "  </thead>\n",
       "  <tbody>\n",
       "    <tr>\n",
       "      <th>0</th>\n",
       "      <td>대한민국의 역사 : 대한민국의 역사가 잠들어 있는 곳. 서울을 방문했다면 꼭 방문해...</td>\n",
       "      <td>긍정리뷰</td>\n",
       "    </tr>\n",
       "    <tr>\n",
       "      <th>1</th>\n",
       "      <td>국민이 공감하는 장소 : 경복궁은 국민들이 자주 찾는곳으로 작성자는 주말에 자주 가...</td>\n",
       "      <td>부정리뷰</td>\n",
       "    </tr>\n",
       "    <tr>\n",
       "      <th>2</th>\n",
       "      <td>산책하기 좋은 경복궁 : 날씨 좋은 날 종종 산책하러 경복궁에 가는데 마음이 편온해...</td>\n",
       "      <td>긍정리뷰</td>\n",
       "    </tr>\n",
       "    <tr>\n",
       "      <th>3</th>\n",
       "      <td>Good : Goooooood 다 좋습니다 다음에 또 오고 싶네요 근처 관광지도많고...</td>\n",
       "      <td>긍정리뷰</td>\n",
       "    </tr>\n",
       "    <tr>\n",
       "      <th>4</th>\n",
       "      <td>가족단위로 방문하기 좋은곳 : 요새 더더욱 코로나로 인해 사람 방문이 적음. 두자녀...</td>\n",
       "      <td>긍정리뷰</td>\n",
       "    </tr>\n",
       "    <tr>\n",
       "      <th>...</th>\n",
       "      <td>...</td>\n",
       "      <td>...</td>\n",
       "    </tr>\n",
       "    <tr>\n",
       "      <th>5231</th>\n",
       "      <td>저는 녹차밭을 별로 기대하고 가지 않았습니다.. 처음에는 안 들리고 지나가려고 했었...</td>\n",
       "      <td>부정리뷰</td>\n",
       "    </tr>\n",
       "    <tr>\n",
       "      <th>5232</th>\n",
       "      <td>보성 녹차밭</td>\n",
       "      <td>긍정리뷰</td>\n",
       "    </tr>\n",
       "    <tr>\n",
       "      <th>5233</th>\n",
       "      <td>참 멋지고 이쁘네요말로만듣고 이번에 가봤는데 좋았어요또 가보고싶었고요추천해요혼자갔는...</td>\n",
       "      <td>부정리뷰</td>\n",
       "    </tr>\n",
       "    <tr>\n",
       "      <th>5234</th>\n",
       "      <td>비오는 겨울 풍경도 아름다운 다원...</td>\n",
       "      <td>부정리뷰</td>\n",
       "    </tr>\n",
       "    <tr>\n",
       "      <th>5235</th>\n",
       "      <td>비오는 겨울 다원 산책은 무모한 도전이었지만 또 다른 경험...다우너의 초록색은 없...</td>\n",
       "      <td>긍정리뷰</td>\n",
       "    </tr>\n",
       "  </tbody>\n",
       "</table>\n",
       "<p>5236 rows × 2 columns</p>\n",
       "</div>"
      ],
      "text/plain": [
       "                                                     리뷰    평가\n",
       "0     대한민국의 역사 : 대한민국의 역사가 잠들어 있는 곳. 서울을 방문했다면 꼭 방문해...  긍정리뷰\n",
       "1     국민이 공감하는 장소 : 경복궁은 국민들이 자주 찾는곳으로 작성자는 주말에 자주 가...  부정리뷰\n",
       "2     산책하기 좋은 경복궁 : 날씨 좋은 날 종종 산책하러 경복궁에 가는데 마음이 편온해...  긍정리뷰\n",
       "3     Good : Goooooood 다 좋습니다 다음에 또 오고 싶네요 근처 관광지도많고...  긍정리뷰\n",
       "4     가족단위로 방문하기 좋은곳 : 요새 더더욱 코로나로 인해 사람 방문이 적음. 두자녀...  긍정리뷰\n",
       "...                                                 ...   ...\n",
       "5231  저는 녹차밭을 별로 기대하고 가지 않았습니다.. 처음에는 안 들리고 지나가려고 했었...  부정리뷰\n",
       "5232                                             보성 녹차밭  긍정리뷰\n",
       "5233  참 멋지고 이쁘네요말로만듣고 이번에 가봤는데 좋았어요또 가보고싶었고요추천해요혼자갔는...  부정리뷰\n",
       "5234                              비오는 겨울 풍경도 아름다운 다원...  부정리뷰\n",
       "5235  비오는 겨울 다원 산책은 무모한 도전이었지만 또 다른 경험...다우너의 초록색은 없...  긍정리뷰\n",
       "\n",
       "[5236 rows x 2 columns]"
      ]
     },
     "execution_count": 19,
     "metadata": {},
     "output_type": "execute_result"
    }
   ],
   "source": [
    "df_review=pd.DataFrame({'리뷰':reviews,'평가':results})\n",
    "df_review"
   ]
  },
  {
   "cell_type": "code",
   "execution_count": 11,
   "metadata": {},
   "outputs": [
    {
     "data": {
      "text/plain": [
       "'대한민국의 역사 : 대한민국의 역사가 잠들어 있는 곳. 서울을 방문했다면 꼭 방문해야 되는 곳. 경복궁은 우리의 역사다. 넓은 경복궁을 산책할 수 있는 것은 언제나 행복이다.'"
      ]
     },
     "execution_count": 11,
     "metadata": {},
     "output_type": "execute_result"
    }
   ],
   "source": [
    "reviews[0]"
   ]
  },
  {
   "cell_type": "code",
   "execution_count": 15,
   "metadata": {},
   "outputs": [],
   "source": [
    "my_review=tfv.transform([review[0]])"
   ]
  },
  {
   "cell_type": "code",
   "execution_count": null,
   "metadata": {},
   "outputs": [],
   "source": []
  }
 ],
 "metadata": {
  "kernelspec": {
   "display_name": "Python 3",
   "language": "python",
   "name": "python3"
  },
  "language_info": {
   "codemirror_mode": {
    "name": "ipython",
    "version": 3
   },
   "file_extension": ".py",
   "mimetype": "text/x-python",
   "name": "python",
   "nbconvert_exporter": "python",
   "pygments_lexer": "ipython3",
   "version": "3.8.5"
  }
 },
 "nbformat": 4,
 "nbformat_minor": 4
}
