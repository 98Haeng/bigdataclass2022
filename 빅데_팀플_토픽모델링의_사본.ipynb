{
 "cells": [
  {
   "cell_type": "code",
   "execution_count": null,
   "metadata": {
    "colab": {
     "base_uri": "https://localhost:8080/"
    },
    "id": "YyYFHkI9VarO",
    "outputId": "9b1b0f7d-a0b1-40a1-996e-ea646b6f7280"
   },
   "outputs": [
    {
     "name": "stdout",
     "output_type": "stream",
     "text": [
      "Name: konlpy\n",
      "Version: 0.6.0\n",
      "Summary: Python package for Korean natural language processing.\n",
      "Home-page: http://konlpy.org\n",
      "Author: Team KoNLPy\n",
      "Author-email: konlpy@googlegroups.com\n",
      "License: GPL v3\n",
      "Location: /usr/local/lib/python3.7/dist-packages\n",
      "Requires: numpy, lxml, JPype1\n",
      "Required-by: \n",
      "Name: wordcloud\n",
      "Version: 1.5.0\n",
      "Summary: A little word cloud generator\n",
      "Home-page: https://github.com/amueller/word_cloud\n",
      "Author: Andreas Mueller\n",
      "Author-email: t3kcit+wordcloud@gmail.com\n",
      "License: MIT\n",
      "Location: /usr/local/lib/python3.7/dist-packages\n",
      "Requires: numpy, pillow\n",
      "Required-by: \n"
     ]
    }
   ],
   "source": [
    "!pip show konlpy\n",
    "!pip show wordcloud"
   ]
  },
  {
   "cell_type": "code",
   "execution_count": null,
   "metadata": {
    "colab": {
     "base_uri": "https://localhost:8080/"
    },
    "id": "onjUqCE4XHKJ",
    "outputId": "defdcc7b-43b6-4946-e337-99857d93c513"
   },
   "outputs": [
    {
     "name": "stdout",
     "output_type": "stream",
     "text": [
      "Hit:1 http://archive.ubuntu.com/ubuntu bionic InRelease\n",
      "Get:2 http://archive.ubuntu.com/ubuntu bionic-updates InRelease [88.7 kB]\n",
      "Hit:3 http://ppa.launchpad.net/c2d4u.team/c2d4u4.0+/ubuntu bionic InRelease\n",
      "Hit:4 https://developer.download.nvidia.com/compute/cuda/repos/ubuntu1804/x86_64  InRelease\n",
      "Get:5 http://security.ubuntu.com/ubuntu bionic-security InRelease [88.7 kB]\n",
      "Hit:6 https://cloud.r-project.org/bin/linux/ubuntu bionic-cran40/ InRelease\n",
      "Hit:7 http://ppa.launchpad.net/cran/libgit2/ubuntu bionic InRelease\n",
      "Get:8 http://archive.ubuntu.com/ubuntu bionic-backports InRelease [74.6 kB]\n",
      "Hit:9 http://ppa.launchpad.net/deadsnakes/ppa/ubuntu bionic InRelease\n",
      "Hit:10 http://ppa.launchpad.net/graphics-drivers/ppa/ubuntu bionic InRelease\n",
      "Ign:11 https://developer.download.nvidia.com/compute/machine-learning/repos/ubuntu1804/x86_64  InRelease\n",
      "Hit:12 https://developer.download.nvidia.com/compute/machine-learning/repos/ubuntu1804/x86_64  Release\n",
      "Fetched 252 kB in 3s (96.4 kB/s)\n",
      "Reading package lists...\n",
      "Reading package lists...\n",
      "Building dependency tree...\n",
      "Reading state information...\n",
      "python-dev is already the newest version (2.7.15~rc1-1).\n",
      "g++ is already the newest version (4:7.4.0-1ubuntu2.3).\n",
      "python3-dev is already the newest version (3.6.7-1~18.04).\n",
      "openjdk-8-jdk is already the newest version (8u312-b07-0ubuntu1~18.04).\n",
      "The following package was automatically installed and is no longer required:\n",
      "  libnvidia-common-460\n",
      "Use 'apt autoremove' to remove it.\n",
      "0 upgraded, 0 newly installed, 0 to remove and 75 not upgraded.\n",
      "Looking in indexes: https://pypi.org/simple, https://us-python.pkg.dev/colab-wheels/public/simple/\n",
      "Requirement already satisfied: JPype1 in /usr/local/lib/python3.7/dist-packages (1.4.0)\n",
      "Requirement already satisfied: typing-extensions in /usr/local/lib/python3.7/dist-packages (from JPype1) (4.2.0)\n",
      "Looking in indexes: https://pypi.org/simple, https://us-python.pkg.dev/colab-wheels/public/simple/\n",
      "Requirement already satisfied: konlpy in /usr/local/lib/python3.7/dist-packages (0.6.0)\n",
      "Requirement already satisfied: numpy>=1.6 in /usr/local/lib/python3.7/dist-packages (from konlpy) (1.21.6)\n",
      "Requirement already satisfied: lxml>=4.1.0 in /usr/local/lib/python3.7/dist-packages (from konlpy) (4.2.6)\n",
      "Requirement already satisfied: JPype1>=0.7.0 in /usr/local/lib/python3.7/dist-packages (from konlpy) (1.4.0)\n",
      "Requirement already satisfied: typing-extensions in /usr/local/lib/python3.7/dist-packages (from JPype1>=0.7.0->konlpy) (4.2.0)\n"
     ]
    }
   ],
   "source": [
    "%%bash\n",
    "apt-get update\n",
    "apt-get install g++ openjdk-8-jdk python-dev python3-dev\n",
    "pip3 install JPype1\n",
    "pip3 install konlpy"
   ]
  },
  {
   "cell_type": "code",
   "execution_count": null,
   "metadata": {
    "colab": {
     "base_uri": "https://localhost:8080/"
    },
    "id": "QUhM5hI-Xacx",
    "outputId": "0347965a-c207-430b-8b1e-c7f60f104de5"
   },
   "outputs": [
    {
     "name": "stdout",
     "output_type": "stream",
     "text": [
      "env: JAVA_HOME=\"/usr/lib/jvm/java-8-openjdk-amd64\"\n"
     ]
    }
   ],
   "source": [
    "%env JAVA_HOME \"/usr/lib/jvm/java-8-openjdk-amd64\""
   ]
  },
  {
   "cell_type": "code",
   "execution_count": null,
   "metadata": {
    "id": "OibTKcgKcI2r"
   },
   "outputs": [],
   "source": [
    "from konlpy.tag import Okt"
   ]
  },
  {
   "cell_type": "code",
   "execution_count": null,
   "metadata": {
    "id": "1i3hA_dREYXj"
   },
   "outputs": [],
   "source": [
    "from wordcloud import WordCloud, STOPWORDS"
   ]
  },
  {
   "cell_type": "code",
   "execution_count": null,
   "metadata": {
    "id": "AFDcPz4GGCWB"
   },
   "outputs": [],
   "source": [
    "import pandas as pd\n",
    "import nltk\n",
    "import numpy as np"
   ]
  },
  {
   "cell_type": "code",
   "execution_count": null,
   "metadata": {
    "id": "L53glXq8GRzX"
   },
   "outputs": [],
   "source": [
    "import re\n",
    "from konlpy.tag import Okt\n",
    "from nltk.corpus import stopwords\n",
    "import nltk\n",
    "import pandas as pd\n",
    "import matplotlib.pyplot as plt\n",
    "from gensim.models.word2vec import Word2Vec"
   ]
  },
  {
   "cell_type": "code",
   "execution_count": null,
   "metadata": {
    "colab": {
     "base_uri": "https://localhost:8080/",
     "height": 832
    },
    "id": "1M1-_9geEiSN",
    "outputId": "f28eed5e-8938-43ac-848e-a5400e83adc4"
   },
   "outputs": [
    {
     "data": {
      "text/html": [
       "\n",
       "  <div id=\"df-dae74c3e-a27e-41fb-89a8-8f24e6a7bc0c\">\n",
       "    <div class=\"colab-df-container\">\n",
       "      <div>\n",
       "<style scoped>\n",
       "    .dataframe tbody tr th:only-of-type {\n",
       "        vertical-align: middle;\n",
       "    }\n",
       "\n",
       "    .dataframe tbody tr th {\n",
       "        vertical-align: top;\n",
       "    }\n",
       "\n",
       "    .dataframe thead th {\n",
       "        text-align: right;\n",
       "    }\n",
       "</style>\n",
       "<table border=\"1\" class=\"dataframe\">\n",
       "  <thead>\n",
       "    <tr style=\"text-align: right;\">\n",
       "      <th></th>\n",
       "      <th>관광지</th>\n",
       "      <th>전체내용</th>\n",
       "      <th>리뷰내용_1</th>\n",
       "      <th>리뷰내용_0</th>\n",
       "      <th>긍정확률_0</th>\n",
       "      <th>부정확률_0</th>\n",
       "      <th>긍정확률_1</th>\n",
       "      <th>부정확률_1</th>\n",
       "    </tr>\n",
       "  </thead>\n",
       "  <tbody>\n",
       "    <tr>\n",
       "      <th>0</th>\n",
       "      <td>경복궁</td>\n",
       "      <td>['대한민국의 역사 ', ' 대한민국의 역사가 잠들어 있는 곳. 서울을 방문했다면 ...</td>\n",
       "      <td>대한민국의 역사가 잠들어 있는 곳. 서울을 방문했다면 꼭 방문해야 되는 곳. 경복...</td>\n",
       "      <td>대한민국의 역사</td>\n",
       "      <td>0.381490</td>\n",
       "      <td>0.618510</td>\n",
       "      <td>0.978027</td>\n",
       "      <td>0.021973</td>\n",
       "    </tr>\n",
       "    <tr>\n",
       "      <th>1</th>\n",
       "      <td>경복궁</td>\n",
       "      <td>['국민이 공감하는 장소 ', ' 경복궁은 국민들이 자주 찾는곳으로 작성자는 주말에...</td>\n",
       "      <td>경복궁은 국민들이 자주 찾는곳으로 작성자는 주말에 자주 가족들과 방문하고 있음.특...</td>\n",
       "      <td>국민이 공감하는 장소</td>\n",
       "      <td>0.850068</td>\n",
       "      <td>0.149932</td>\n",
       "      <td>0.980540</td>\n",
       "      <td>0.019460</td>\n",
       "    </tr>\n",
       "    <tr>\n",
       "      <th>2</th>\n",
       "      <td>경복궁</td>\n",
       "      <td>['산책하기 좋은 경복궁 ', ' 날씨 좋은 날 종종 산책하러 경복궁에 가는데 마음...</td>\n",
       "      <td>날씨 좋은 날 종종 산책하러 경복궁에 가는데 마음이 편온해지는 기분이라고 할까요?...</td>\n",
       "      <td>산책하기 좋은 경복궁</td>\n",
       "      <td>0.916744</td>\n",
       "      <td>0.083256</td>\n",
       "      <td>0.990634</td>\n",
       "      <td>0.009366</td>\n",
       "    </tr>\n",
       "    <tr>\n",
       "      <th>3</th>\n",
       "      <td>경복궁</td>\n",
       "      <td>['Good ', ' Goooooood 다 좋습니다 다음에 또 오고 싶네요 근처 관...</td>\n",
       "      <td>Goooooood 다 좋습니다 다음에 또 오고 싶네요 근처 관광지도많고 먹을거리도...</td>\n",
       "      <td>Good</td>\n",
       "      <td>0.861854</td>\n",
       "      <td>0.138146</td>\n",
       "      <td>0.989062</td>\n",
       "      <td>0.010938</td>\n",
       "    </tr>\n",
       "    <tr>\n",
       "      <th>4</th>\n",
       "      <td>경복궁</td>\n",
       "      <td>['가족단위로 방문하기 좋은곳 ', ' 요새 더더욱 코로나로 인해 사람 방문이 적음...</td>\n",
       "      <td>요새 더더욱 코로나로 인해 사람 방문이 적음. 두자녀 동반시 성인 입장무료. 지금...</td>\n",
       "      <td>가족단위로 방문하기 좋은곳</td>\n",
       "      <td>0.931031</td>\n",
       "      <td>0.068969</td>\n",
       "      <td>0.860709</td>\n",
       "      <td>0.139291</td>\n",
       "    </tr>\n",
       "    <tr>\n",
       "      <th>...</th>\n",
       "      <td>...</td>\n",
       "      <td>...</td>\n",
       "      <td>...</td>\n",
       "      <td>...</td>\n",
       "      <td>...</td>\n",
       "      <td>...</td>\n",
       "      <td>...</td>\n",
       "      <td>...</td>\n",
       "    </tr>\n",
       "    <tr>\n",
       "      <th>5351</th>\n",
       "      <td>순천 드라마세트장</td>\n",
       "      <td>['서울 달동네와 어린 시절에 보고 경험해 익숙한 셋트장에 잊혀진 기억들이 새록 새...</td>\n",
       "      <td>리뷰없음</td>\n",
       "      <td>서울 달동네와 어린 시절에 보고 경험해 익숙한 셋트장에 잊혀진 기억들이 새록 새록특...</td>\n",
       "      <td>0.311129</td>\n",
       "      <td>0.688871</td>\n",
       "      <td>0.005893</td>\n",
       "      <td>0.994107</td>\n",
       "    </tr>\n",
       "    <tr>\n",
       "      <th>5352</th>\n",
       "      <td>순천 드라마세트장</td>\n",
       "      <td>['사진찍기 좋은 날에~~^^']</td>\n",
       "      <td>리뷰없음</td>\n",
       "      <td>사진찍기 좋은 날에</td>\n",
       "      <td>0.848867</td>\n",
       "      <td>0.151133</td>\n",
       "      <td>0.005893</td>\n",
       "      <td>0.994107</td>\n",
       "    </tr>\n",
       "    <tr>\n",
       "      <th>5353</th>\n",
       "      <td>순천 드라마세트장</td>\n",
       "      <td>['기분  좋은  그  어떤  날~~~   그 곳에선  그  어떠한  모습도  예쁘...</td>\n",
       "      <td>리뷰없음</td>\n",
       "      <td>기분  좋은  그  어떤  날   그 곳에선  그  어떠한  모습도  예쁘고  사랑...</td>\n",
       "      <td>0.962142</td>\n",
       "      <td>0.037858</td>\n",
       "      <td>0.005893</td>\n",
       "      <td>0.994107</td>\n",
       "    </tr>\n",
       "    <tr>\n",
       "      <th>5354</th>\n",
       "      <td>순천 드라마세트장</td>\n",
       "      <td>['재밌네요ㅎ']</td>\n",
       "      <td>리뷰없음</td>\n",
       "      <td>재밌네요ㅎ</td>\n",
       "      <td>0.934410</td>\n",
       "      <td>0.065590</td>\n",
       "      <td>0.005893</td>\n",
       "      <td>0.994107</td>\n",
       "    </tr>\n",
       "    <tr>\n",
       "      <th>5355</th>\n",
       "      <td>순천 드라마세트장</td>\n",
       "      <td>['드라마세트장 재밌어요다들 교복 입고 돌아다니시던데 보기좋았어요되게 드라마생각나고...</td>\n",
       "      <td>리뷰없음</td>\n",
       "      <td>드라마세트장 재밌어요다들 교복 입고 돌아다니시던데 보기좋았어요되게 드라마생각나고 예...</td>\n",
       "      <td>0.984369</td>\n",
       "      <td>0.015631</td>\n",
       "      <td>0.005893</td>\n",
       "      <td>0.994107</td>\n",
       "    </tr>\n",
       "  </tbody>\n",
       "</table>\n",
       "<p>5356 rows × 8 columns</p>\n",
       "</div>\n",
       "      <button class=\"colab-df-convert\" onclick=\"convertToInteractive('df-dae74c3e-a27e-41fb-89a8-8f24e6a7bc0c')\"\n",
       "              title=\"Convert this dataframe to an interactive table.\"\n",
       "              style=\"display:none;\">\n",
       "        \n",
       "  <svg xmlns=\"http://www.w3.org/2000/svg\" height=\"24px\"viewBox=\"0 0 24 24\"\n",
       "       width=\"24px\">\n",
       "    <path d=\"M0 0h24v24H0V0z\" fill=\"none\"/>\n",
       "    <path d=\"M18.56 5.44l.94 2.06.94-2.06 2.06-.94-2.06-.94-.94-2.06-.94 2.06-2.06.94zm-11 1L8.5 8.5l.94-2.06 2.06-.94-2.06-.94L8.5 2.5l-.94 2.06-2.06.94zm10 10l.94 2.06.94-2.06 2.06-.94-2.06-.94-.94-2.06-.94 2.06-2.06.94z\"/><path d=\"M17.41 7.96l-1.37-1.37c-.4-.4-.92-.59-1.43-.59-.52 0-1.04.2-1.43.59L10.3 9.45l-7.72 7.72c-.78.78-.78 2.05 0 2.83L4 21.41c.39.39.9.59 1.41.59.51 0 1.02-.2 1.41-.59l7.78-7.78 2.81-2.81c.8-.78.8-2.07 0-2.86zM5.41 20L4 18.59l7.72-7.72 1.47 1.35L5.41 20z\"/>\n",
       "  </svg>\n",
       "      </button>\n",
       "      \n",
       "  <style>\n",
       "    .colab-df-container {\n",
       "      display:flex;\n",
       "      flex-wrap:wrap;\n",
       "      gap: 12px;\n",
       "    }\n",
       "\n",
       "    .colab-df-convert {\n",
       "      background-color: #E8F0FE;\n",
       "      border: none;\n",
       "      border-radius: 50%;\n",
       "      cursor: pointer;\n",
       "      display: none;\n",
       "      fill: #1967D2;\n",
       "      height: 32px;\n",
       "      padding: 0 0 0 0;\n",
       "      width: 32px;\n",
       "    }\n",
       "\n",
       "    .colab-df-convert:hover {\n",
       "      background-color: #E2EBFA;\n",
       "      box-shadow: 0px 1px 2px rgba(60, 64, 67, 0.3), 0px 1px 3px 1px rgba(60, 64, 67, 0.15);\n",
       "      fill: #174EA6;\n",
       "    }\n",
       "\n",
       "    [theme=dark] .colab-df-convert {\n",
       "      background-color: #3B4455;\n",
       "      fill: #D2E3FC;\n",
       "    }\n",
       "\n",
       "    [theme=dark] .colab-df-convert:hover {\n",
       "      background-color: #434B5C;\n",
       "      box-shadow: 0px 1px 3px 1px rgba(0, 0, 0, 0.15);\n",
       "      filter: drop-shadow(0px 1px 2px rgba(0, 0, 0, 0.3));\n",
       "      fill: #FFFFFF;\n",
       "    }\n",
       "  </style>\n",
       "\n",
       "      <script>\n",
       "        const buttonEl =\n",
       "          document.querySelector('#df-dae74c3e-a27e-41fb-89a8-8f24e6a7bc0c button.colab-df-convert');\n",
       "        buttonEl.style.display =\n",
       "          google.colab.kernel.accessAllowed ? 'block' : 'none';\n",
       "\n",
       "        async function convertToInteractive(key) {\n",
       "          const element = document.querySelector('#df-dae74c3e-a27e-41fb-89a8-8f24e6a7bc0c');\n",
       "          const dataTable =\n",
       "            await google.colab.kernel.invokeFunction('convertToInteractive',\n",
       "                                                     [key], {});\n",
       "          if (!dataTable) return;\n",
       "\n",
       "          const docLinkHtml = 'Like what you see? Visit the ' +\n",
       "            '<a target=\"_blank\" href=https://colab.research.google.com/notebooks/data_table.ipynb>data table notebook</a>'\n",
       "            + ' to learn more about interactive tables.';\n",
       "          element.innerHTML = '';\n",
       "          dataTable['output_type'] = 'display_data';\n",
       "          await google.colab.output.renderOutput(dataTable, element);\n",
       "          const docLink = document.createElement('div');\n",
       "          docLink.innerHTML = docLinkHtml;\n",
       "          element.appendChild(docLink);\n",
       "        }\n",
       "      </script>\n",
       "    </div>\n",
       "  </div>\n",
       "  "
      ],
      "text/plain": [
       "             관광지                                               전체내용  \\\n",
       "0            경복궁  ['대한민국의 역사 ', ' 대한민국의 역사가 잠들어 있는 곳. 서울을 방문했다면 ...   \n",
       "1            경복궁  ['국민이 공감하는 장소 ', ' 경복궁은 국민들이 자주 찾는곳으로 작성자는 주말에...   \n",
       "2            경복궁  ['산책하기 좋은 경복궁 ', ' 날씨 좋은 날 종종 산책하러 경복궁에 가는데 마음...   \n",
       "3            경복궁  ['Good ', ' Goooooood 다 좋습니다 다음에 또 오고 싶네요 근처 관...   \n",
       "4            경복궁  ['가족단위로 방문하기 좋은곳 ', ' 요새 더더욱 코로나로 인해 사람 방문이 적음...   \n",
       "...          ...                                                ...   \n",
       "5351  순천 드라마세트장   ['서울 달동네와 어린 시절에 보고 경험해 익숙한 셋트장에 잊혀진 기억들이 새록 새...   \n",
       "5352  순천 드라마세트장                                  ['사진찍기 좋은 날에~~^^']   \n",
       "5353  순천 드라마세트장   ['기분  좋은  그  어떤  날~~~   그 곳에선  그  어떠한  모습도  예쁘...   \n",
       "5354  순천 드라마세트장                                           ['재밌네요ㅎ']   \n",
       "5355  순천 드라마세트장   ['드라마세트장 재밌어요다들 교복 입고 돌아다니시던데 보기좋았어요되게 드라마생각나고...   \n",
       "\n",
       "                                                 리뷰내용_1  \\\n",
       "0      대한민국의 역사가 잠들어 있는 곳. 서울을 방문했다면 꼭 방문해야 되는 곳. 경복...   \n",
       "1      경복궁은 국민들이 자주 찾는곳으로 작성자는 주말에 자주 가족들과 방문하고 있음.특...   \n",
       "2      날씨 좋은 날 종종 산책하러 경복궁에 가는데 마음이 편온해지는 기분이라고 할까요?...   \n",
       "3      Goooooood 다 좋습니다 다음에 또 오고 싶네요 근처 관광지도많고 먹을거리도...   \n",
       "4      요새 더더욱 코로나로 인해 사람 방문이 적음. 두자녀 동반시 성인 입장무료. 지금...   \n",
       "...                                                 ...   \n",
       "5351                                               리뷰없음   \n",
       "5352                                               리뷰없음   \n",
       "5353                                               리뷰없음   \n",
       "5354                                               리뷰없음   \n",
       "5355                                               리뷰없음   \n",
       "\n",
       "                                                 리뷰내용_0    긍정확률_0    부정확률_0  \\\n",
       "0                                             대한민국의 역사   0.381490  0.618510   \n",
       "1                                          국민이 공감하는 장소   0.850068  0.149932   \n",
       "2                                          산책하기 좋은 경복궁   0.916744  0.083256   \n",
       "3                                                 Good   0.861854  0.138146   \n",
       "4                                       가족단위로 방문하기 좋은곳   0.931031  0.068969   \n",
       "...                                                 ...       ...       ...   \n",
       "5351  서울 달동네와 어린 시절에 보고 경험해 익숙한 셋트장에 잊혀진 기억들이 새록 새록특...  0.311129  0.688871   \n",
       "5352                                         사진찍기 좋은 날에  0.848867  0.151133   \n",
       "5353  기분  좋은  그  어떤  날   그 곳에선  그  어떠한  모습도  예쁘고  사랑...  0.962142  0.037858   \n",
       "5354                                              재밌네요ㅎ  0.934410  0.065590   \n",
       "5355  드라마세트장 재밌어요다들 교복 입고 돌아다니시던데 보기좋았어요되게 드라마생각나고 예...  0.984369  0.015631   \n",
       "\n",
       "        긍정확률_1    부정확률_1  \n",
       "0     0.978027  0.021973  \n",
       "1     0.980540  0.019460  \n",
       "2     0.990634  0.009366  \n",
       "3     0.989062  0.010938  \n",
       "4     0.860709  0.139291  \n",
       "...        ...       ...  \n",
       "5351  0.005893  0.994107  \n",
       "5352  0.005893  0.994107  \n",
       "5353  0.005893  0.994107  \n",
       "5354  0.005893  0.994107  \n",
       "5355  0.005893  0.994107  \n",
       "\n",
       "[5356 rows x 8 columns]"
      ]
     },
     "execution_count": 9,
     "metadata": {},
     "output_type": "execute_result"
    }
   ],
   "source": [
    "df = pd.read_excel('/content/감성분석반영리뷰_1_.xlsx')\n",
    "df"
   ]
  },
  {
   "cell_type": "code",
   "execution_count": null,
   "metadata": {
    "id": "9eS4EXdLciSV"
   },
   "outputs": [],
   "source": [
    "df = df.dropna()"
   ]
  },
  {
   "cell_type": "code",
   "execution_count": null,
   "metadata": {
    "colab": {
     "base_uri": "https://localhost:8080/"
    },
    "id": "LSQrMM_TVKit",
    "outputId": "64389d59-75bd-4008-a6dd-6b5178952380"
   },
   "outputs": [
    {
     "name": "stderr",
     "output_type": "stream",
     "text": [
      "/usr/local/lib/python3.7/dist-packages/ipykernel_launcher.py:11: UserWarning: Pandas doesn't allow columns to be created via a new attribute name - see https://pandas.pydata.org/pandas-docs/stable/indexing.html#attribute-access\n",
      "  # This is added back by InteractiveShellApp.init_path()\n"
     ]
    }
   ],
   "source": [
    "okt = Okt() \n",
    "noun_list = []\n",
    "detokenized_doc = []\n",
    "\n",
    "for sentence in df.리뷰내용_1:\n",
    "    noun_list = okt.nouns(sentence)\n",
    "    noun_list = [n for n in noun_list if len(n) > 1]\n",
    "    t = ' '.join(noun_list)\n",
    "    detokenized_doc.append(t)\n",
    "    \n",
    "df.txt = detokenized_doc "
   ]
  },
  {
   "cell_type": "code",
   "execution_count": null,
   "metadata": {
    "colab": {
     "base_uri": "https://localhost:8080/"
    },
    "id": "By4fjcZCU_Bv",
    "outputId": "052d9e73-8a2d-4a34-a56e-cbbb9e7d277d"
   },
   "outputs": [
    {
     "data": {
      "text/plain": [
       "(5355, 1000)"
      ]
     },
     "execution_count": 12,
     "metadata": {},
     "output_type": "execute_result"
    }
   ],
   "source": [
    "from sklearn.feature_extraction.text import TfidfVectorizer\n",
    "\n",
    "vectorizer = TfidfVectorizer(max_features= 1000, # 상위 1,000개의 단어를 보존 \n",
    "                             max_df = 0.5, smooth_idf=True)\n",
    "\n",
    "X = vectorizer.fit_transform(df.txt)\n",
    "X.shape # TF-IDF 행렬의 크기 확인"
   ]
  },
  {
   "cell_type": "code",
   "execution_count": null,
   "metadata": {
    "colab": {
     "base_uri": "https://localhost:8080/"
    },
    "id": "-5QicDZ_ZyZN",
    "outputId": "72211974-a6d4-444e-9429-adaa9251997d"
   },
   "outputs": [
    {
     "name": "stdout",
     "output_type": "stream",
     "text": [
      "Topic 1: [('리뷰', 1.0), ('방문', 0.00051), ('기회', 0.00048), ('작품', 0.00037), ('기념관', 0.00022)]\n",
      "Topic 2: [('방문', 0.47363), ('아이', 0.28716), ('산책', 0.25576), ('박물관', 0.21563), ('생각', 0.16199)]\n",
      "Topic 3: [('방문', 0.83564), ('한번', 0.03036), ('다시', 0.02421), ('가치', 0.01604), ('필수', 0.01226)]\n",
      "Topic 4: [('박물관', 0.74938), ('아이', 0.31648), ('역사', 0.07618), ('전시', 0.07608), ('체험', 0.06604)]\n",
      "Topic 5: [('바다', 0.8288), ('박물관', 0.12844), ('해수욕장', 0.06743), ('정말', 0.06693), ('해변', 0.06492)]\n"
     ]
    },
    {
     "name": "stderr",
     "output_type": "stream",
     "text": [
      "/usr/local/lib/python3.7/dist-packages/sklearn/utils/deprecation.py:87: FutureWarning: Function get_feature_names is deprecated; get_feature_names is deprecated in 1.0 and will be removed in 1.2. Please use get_feature_names_out instead.\n",
      "  warnings.warn(msg, category=FutureWarning)\n"
     ]
    }
   ],
   "source": [
    "from sklearn.decomposition import TruncatedSVD\n",
    "svd_model = TruncatedSVD(n_components=5, algorithm='randomized', n_iter=100, random_state=122)\n",
    "svd_model.fit(X)\n",
    "len(svd_model.components_)\n",
    "\n",
    "np.shape(svd_model.components_)\n",
    "\n",
    "terms = vectorizer.get_feature_names() # 단어 집합. 1,000개의 단어가 저장됨.\n",
    "\n",
    "def get_topics(components, feature_names, n=5):\n",
    "    for idx, topic in enumerate(components):\n",
    "        print(\"Topic %d:\" % (idx+1), [(feature_names[i], topic[i].round(5)) for i in topic.argsort()[:-n - 1:-1]])\n",
    "get_topics(svd_model.components_,terms)"
   ]
  },
  {
   "cell_type": "code",
   "execution_count": null,
   "metadata": {
    "colab": {
     "base_uri": "https://localhost:8080/"
    },
    "id": "UpGTXpf1eLHR",
    "outputId": "c6ba3615-d8e1-403f-d74e-0fa4e24823be"
   },
   "outputs": [
    {
     "name": "stdout",
     "output_type": "stream",
     "text": [
      "Topic 1: [('리뷰', 1.0), ('방문', 0.00051), ('기회', 0.00048), ('작품', 0.00037), ('기념관', 0.00022), ('소개', 0.00021), ('대한', 0.00019)]\n",
      "Topic 2: [('방문', 0.47363), ('아이', 0.28716), ('산책', 0.25576), ('박물관', 0.21563), ('생각', 0.16199), ('공원', 0.15061), ('가족', 0.14992)]\n",
      "Topic 3: [('방문', 0.83564), ('한번', 0.03036), ('다시', 0.02421), ('가치', 0.01604), ('필수', 0.01226), ('겨울', 0.01166), ('대구', 0.01002)]\n",
      "Topic 4: [('박물관', 0.74938), ('아이', 0.31648), ('역사', 0.07618), ('전시', 0.07608), ('체험', 0.06604), ('국립', 0.03595), ('관람', 0.03086)]\n",
      "Topic 5: [('바다', 0.8288), ('박물관', 0.12844), ('해수욕장', 0.06743), ('정말', 0.06693), ('해변', 0.06492), ('동해', 0.06393), ('겨울', 0.0488)]\n"
     ]
    },
    {
     "name": "stderr",
     "output_type": "stream",
     "text": [
      "/usr/local/lib/python3.7/dist-packages/sklearn/utils/deprecation.py:87: FutureWarning: Function get_feature_names is deprecated; get_feature_names is deprecated in 1.0 and will be removed in 1.2. Please use get_feature_names_out instead.\n",
      "  warnings.warn(msg, category=FutureWarning)\n"
     ]
    }
   ],
   "source": [
    "from sklearn.decomposition import TruncatedSVD\n",
    "svd_model = TruncatedSVD(n_components=5, algorithm='randomized', n_iter=100, random_state=122)\n",
    "svd_model.fit(X)\n",
    "len(svd_model.components_)\n",
    "\n",
    "np.shape(svd_model.components_)\n",
    "\n",
    "terms = vectorizer.get_feature_names() # 단어 집합. 1,000개의 단어가 저장됨.\n",
    "\n",
    "def get_topics(components, feature_names, n=7):\n",
    "    for idx, topic in enumerate(components):\n",
    "        print(\"Topic %d:\" % (idx+1), [(feature_names[i], topic[i].round(5)) for i in topic.argsort()[:-n - 1:-1]])\n",
    "get_topics(svd_model.components_,terms)"
   ]
  },
  {
   "cell_type": "markdown",
   "metadata": {
    "id": "dLqzYDoQgakX"
   },
   "source": []
  },
  {
   "cell_type": "code",
   "execution_count": null,
   "metadata": {
    "colab": {
     "base_uri": "https://localhost:8080/"
    },
    "id": "w2-4ree_F3tj",
    "outputId": "c019f714-da28-454a-b421-d08c686f0077"
   },
   "outputs": [
    {
     "name": "stderr",
     "output_type": "stream",
     "text": [
      "/usr/local/lib/python3.7/dist-packages/ipykernel_launcher.py:2: FutureWarning: The default value of regex will change from True to False in a future version.\n",
      "  \n"
     ]
    }
   ],
   "source": [
    "df = df.dropna(how = 'any')\n",
    "df['리뷰내용_1'] = df['리뷰내용_1'].str.replace(\"[^ㄱ-ㅎㅏ-ㅣ가-힣 ]\",\"\")\n",
    "\n",
    "okt = Okt()\n",
    "tokenized_data = []\n",
    "\n",
    "for sentence in df['리뷰내용_1']:\n",
    "    temp_X = okt.nouns(sentence)\n",
    "    temp_X = [word for word in temp_X if len(word)>1]\n",
    "    tokenized_data.append(temp_X)"
   ]
  },
  {
   "cell_type": "code",
   "execution_count": null,
   "metadata": {
    "id": "pzlLuat8ShTQ"
   },
   "outputs": [],
   "source": [
    "from gensim import corpora\n",
    "dictionary = corpora.Dictionary(tokenized_doc)\n",
    "corpus = [dictionary.doc2bow(text) for text in tokenized_doc]"
   ]
  },
  {
   "cell_type": "code",
   "execution_count": null,
   "metadata": {
    "colab": {
     "base_uri": "https://localhost:8080/"
    },
    "id": "sYJrQQXgSmA7",
    "outputId": "5e3483ef-8bce-4a1b-cd92-df08d1acbf49"
   },
   "outputs": [
    {
     "name": "stdout",
     "output_type": "stream",
     "text": [
      "(0, '0.005*\"있는\" + 0.003*\"있고\" + 0.003*\"있습니다\" + 0.003*\"너무\"')\n",
      "(1, '0.007*\"있는\" + 0.006*\"있습니다\" + 0.004*\"너무\" + 0.003*\"있어\"')\n",
      "(2, '0.008*\"있는\" + 0.006*\"박물관\" + 0.005*\"있습니다\" + 0.005*\"너무\"')\n",
      "(3, '0.009*\"있는\" + 0.003*\"많이\" + 0.003*\"합니다\" + 0.003*\"좋은\"')\n",
      "(4, '0.003*\"있는\" + 0.003*\"많이\" + 0.003*\"매우\" + 0.003*\"정말\"')\n",
      "(5, '0.007*\"있는\" + 0.005*\"좋았습니다\" + 0.004*\"아름다운\" + 0.003*\"있어\"')\n",
      "(6, '0.007*\"있는\" + 0.006*\"함께\" + 0.004*\"너무\" + 0.004*\"많이\"')\n",
      "(7, '0.010*\"좋아요\" + 0.008*\"있는\" + 0.005*\"많이\" + 0.005*\"좋은\"')\n",
      "(8, '0.009*\"좋은\" + 0.005*\"너무\" + 0.004*\"산책하기\" + 0.004*\"정말\"')\n",
      "(9, '0.011*\"있는\" + 0.005*\"곳입니다\" + 0.004*\"좋습니다\" + 0.003*\"있어서\"')\n",
      "(10, '0.121*\"리뷰없음\" + 0.009*\"좋은\" + 0.006*\"있는\" + 0.003*\"있어서\"')\n"
     ]
    }
   ],
   "source": [
    "import gensim\n",
    "NUM_TOPICS = 11\n",
    "ldamodel = gensim.models.ldamodel.LdaModel(corpus, num_topics = NUM_TOPICS, id2word=dictionary, passes=15)\n",
    "topics = ldamodel.print_topics(num_words=4)\n",
    "for topic in topics:\n",
    "    print(topic)"
   ]
  },
  {
   "cell_type": "code",
   "execution_count": null,
   "metadata": {
    "id": "XGkP4k6mS0QD"
   },
   "outputs": [],
   "source": [
    "def make_topictable_per_doc(ldamodel, corpus):\n",
    "    topic_table = pd.DataFrame()\n",
    "\n",
    "    # 몇 번째 문서인지를 의미하는 문서 번호와 해당 문서의 토픽 비중을 한 줄씩 꺼내온다.\n",
    "    for i, topic_list in enumerate(ldamodel[corpus]):\n",
    "        doc = topic_list[0] if ldamodel.per_word_topics else topic_list            \n",
    "        doc = sorted(doc, key=lambda x: (x[1]), reverse=True)\n",
    "        # 각 문서에 대해서 비중이 높은 토픽순으로 토픽을 정렬한다.\n",
    "        # EX) 정렬 전 0번 문서 : (2번 토픽, 48.5%), (8번 토픽, 25%), (10번 토픽, 5%), (12번 토픽, 21.5%), \n",
    "        # Ex) 정렬 후 0번 문서 : (2번 토픽, 48.5%), (8번 토픽, 25%), (12번 토픽, 21.5%), (10번 토픽, 5%)\n",
    "        # 48 > 25 > 21 > 5 순으로 정렬이 된 것.\n",
    "\n",
    "        # 모든 문서에 대해서 각각 아래를 수행\n",
    "        for j, (topic_num, prop_topic) in enumerate(doc): #  몇 번 토픽인지와 비중을 나눠서 저장한다.\n",
    "            if j == 0:  # 정렬을 한 상태이므로 가장 앞에 있는 것이 가장 비중이 높은 토픽\n",
    "                topic_table = topic_table.append(pd.Series([int(topic_num), round(prop_topic,4), topic_list]), ignore_index=True)\n",
    "                # 가장 비중이 높은 토픽과, 가장 비중이 높은 토픽의 비중과, 전체 토픽의 비중을 저장한다.\n",
    "            else:\n",
    "                break\n",
    "    return(topic_table)"
   ]
  },
  {
   "cell_type": "code",
   "execution_count": null,
   "metadata": {
    "colab": {
     "base_uri": "https://localhost:8080/",
     "height": 394
    },
    "id": "sJxvbydBUVAQ",
    "outputId": "e7d49d9e-98c8-48c2-dafc-647ce6bd0d45"
   },
   "outputs": [
    {
     "data": {
      "text/html": [
       "\n",
       "  <div id=\"df-833a94fb-d9e6-4d4c-8d6f-a85c8602954c\">\n",
       "    <div class=\"colab-df-container\">\n",
       "      <div>\n",
       "<style scoped>\n",
       "    .dataframe tbody tr th:only-of-type {\n",
       "        vertical-align: middle;\n",
       "    }\n",
       "\n",
       "    .dataframe tbody tr th {\n",
       "        vertical-align: top;\n",
       "    }\n",
       "\n",
       "    .dataframe thead th {\n",
       "        text-align: right;\n",
       "    }\n",
       "</style>\n",
       "<table border=\"1\" class=\"dataframe\">\n",
       "  <thead>\n",
       "    <tr style=\"text-align: right;\">\n",
       "      <th></th>\n",
       "      <th>문서 번호</th>\n",
       "      <th>가장 비중이 높은 토픽</th>\n",
       "      <th>가장 높은 토픽의 비중</th>\n",
       "      <th>각 토픽의 비중</th>\n",
       "    </tr>\n",
       "  </thead>\n",
       "  <tbody>\n",
       "    <tr>\n",
       "      <th>0</th>\n",
       "      <td>0</td>\n",
       "      <td>6.0</td>\n",
       "      <td>0.9526</td>\n",
       "      <td>[(6, 0.952626)]</td>\n",
       "    </tr>\n",
       "    <tr>\n",
       "      <th>1</th>\n",
       "      <td>1</td>\n",
       "      <td>1.0</td>\n",
       "      <td>0.9591</td>\n",
       "      <td>[(1, 0.9590864)]</td>\n",
       "    </tr>\n",
       "    <tr>\n",
       "      <th>2</th>\n",
       "      <td>2</td>\n",
       "      <td>2.0</td>\n",
       "      <td>0.9437</td>\n",
       "      <td>[(2, 0.9437376)]</td>\n",
       "    </tr>\n",
       "    <tr>\n",
       "      <th>3</th>\n",
       "      <td>3</td>\n",
       "      <td>6.0</td>\n",
       "      <td>0.9182</td>\n",
       "      <td>[(6, 0.91817605)]</td>\n",
       "    </tr>\n",
       "    <tr>\n",
       "      <th>4</th>\n",
       "      <td>4</td>\n",
       "      <td>2.0</td>\n",
       "      <td>0.9571</td>\n",
       "      <td>[(2, 0.9571375)]</td>\n",
       "    </tr>\n",
       "    <tr>\n",
       "      <th>5</th>\n",
       "      <td>5</td>\n",
       "      <td>2.0</td>\n",
       "      <td>0.9750</td>\n",
       "      <td>[(2, 0.9749974)]</td>\n",
       "    </tr>\n",
       "    <tr>\n",
       "      <th>6</th>\n",
       "      <td>6</td>\n",
       "      <td>1.0</td>\n",
       "      <td>0.8507</td>\n",
       "      <td>[(1, 0.8507309), (4, 0.107158735)]</td>\n",
       "    </tr>\n",
       "    <tr>\n",
       "      <th>7</th>\n",
       "      <td>7</td>\n",
       "      <td>1.0</td>\n",
       "      <td>0.9791</td>\n",
       "      <td>[(1, 0.9790682)]</td>\n",
       "    </tr>\n",
       "    <tr>\n",
       "      <th>8</th>\n",
       "      <td>8</td>\n",
       "      <td>8.0</td>\n",
       "      <td>0.9640</td>\n",
       "      <td>[(8, 0.96399474)]</td>\n",
       "    </tr>\n",
       "    <tr>\n",
       "      <th>9</th>\n",
       "      <td>9</td>\n",
       "      <td>3.0</td>\n",
       "      <td>0.9500</td>\n",
       "      <td>[(3, 0.9499769)]</td>\n",
       "    </tr>\n",
       "    <tr>\n",
       "      <th>10</th>\n",
       "      <td>10</td>\n",
       "      <td>1.0</td>\n",
       "      <td>0.9571</td>\n",
       "      <td>[(1, 0.9571376)]</td>\n",
       "    </tr>\n",
       "  </tbody>\n",
       "</table>\n",
       "</div>\n",
       "      <button class=\"colab-df-convert\" onclick=\"convertToInteractive('df-833a94fb-d9e6-4d4c-8d6f-a85c8602954c')\"\n",
       "              title=\"Convert this dataframe to an interactive table.\"\n",
       "              style=\"display:none;\">\n",
       "        \n",
       "  <svg xmlns=\"http://www.w3.org/2000/svg\" height=\"24px\"viewBox=\"0 0 24 24\"\n",
       "       width=\"24px\">\n",
       "    <path d=\"M0 0h24v24H0V0z\" fill=\"none\"/>\n",
       "    <path d=\"M18.56 5.44l.94 2.06.94-2.06 2.06-.94-2.06-.94-.94-2.06-.94 2.06-2.06.94zm-11 1L8.5 8.5l.94-2.06 2.06-.94-2.06-.94L8.5 2.5l-.94 2.06-2.06.94zm10 10l.94 2.06.94-2.06 2.06-.94-2.06-.94-.94-2.06-.94 2.06-2.06.94z\"/><path d=\"M17.41 7.96l-1.37-1.37c-.4-.4-.92-.59-1.43-.59-.52 0-1.04.2-1.43.59L10.3 9.45l-7.72 7.72c-.78.78-.78 2.05 0 2.83L4 21.41c.39.39.9.59 1.41.59.51 0 1.02-.2 1.41-.59l7.78-7.78 2.81-2.81c.8-.78.8-2.07 0-2.86zM5.41 20L4 18.59l7.72-7.72 1.47 1.35L5.41 20z\"/>\n",
       "  </svg>\n",
       "      </button>\n",
       "      \n",
       "  <style>\n",
       "    .colab-df-container {\n",
       "      display:flex;\n",
       "      flex-wrap:wrap;\n",
       "      gap: 12px;\n",
       "    }\n",
       "\n",
       "    .colab-df-convert {\n",
       "      background-color: #E8F0FE;\n",
       "      border: none;\n",
       "      border-radius: 50%;\n",
       "      cursor: pointer;\n",
       "      display: none;\n",
       "      fill: #1967D2;\n",
       "      height: 32px;\n",
       "      padding: 0 0 0 0;\n",
       "      width: 32px;\n",
       "    }\n",
       "\n",
       "    .colab-df-convert:hover {\n",
       "      background-color: #E2EBFA;\n",
       "      box-shadow: 0px 1px 2px rgba(60, 64, 67, 0.3), 0px 1px 3px 1px rgba(60, 64, 67, 0.15);\n",
       "      fill: #174EA6;\n",
       "    }\n",
       "\n",
       "    [theme=dark] .colab-df-convert {\n",
       "      background-color: #3B4455;\n",
       "      fill: #D2E3FC;\n",
       "    }\n",
       "\n",
       "    [theme=dark] .colab-df-convert:hover {\n",
       "      background-color: #434B5C;\n",
       "      box-shadow: 0px 1px 3px 1px rgba(0, 0, 0, 0.15);\n",
       "      filter: drop-shadow(0px 1px 2px rgba(0, 0, 0, 0.3));\n",
       "      fill: #FFFFFF;\n",
       "    }\n",
       "  </style>\n",
       "\n",
       "      <script>\n",
       "        const buttonEl =\n",
       "          document.querySelector('#df-833a94fb-d9e6-4d4c-8d6f-a85c8602954c button.colab-df-convert');\n",
       "        buttonEl.style.display =\n",
       "          google.colab.kernel.accessAllowed ? 'block' : 'none';\n",
       "\n",
       "        async function convertToInteractive(key) {\n",
       "          const element = document.querySelector('#df-833a94fb-d9e6-4d4c-8d6f-a85c8602954c');\n",
       "          const dataTable =\n",
       "            await google.colab.kernel.invokeFunction('convertToInteractive',\n",
       "                                                     [key], {});\n",
       "          if (!dataTable) return;\n",
       "\n",
       "          const docLinkHtml = 'Like what you see? Visit the ' +\n",
       "            '<a target=\"_blank\" href=https://colab.research.google.com/notebooks/data_table.ipynb>data table notebook</a>'\n",
       "            + ' to learn more about interactive tables.';\n",
       "          element.innerHTML = '';\n",
       "          dataTable['output_type'] = 'display_data';\n",
       "          await google.colab.output.renderOutput(dataTable, element);\n",
       "          const docLink = document.createElement('div');\n",
       "          docLink.innerHTML = docLinkHtml;\n",
       "          element.appendChild(docLink);\n",
       "        }\n",
       "      </script>\n",
       "    </div>\n",
       "  </div>\n",
       "  "
      ],
      "text/plain": [
       "    문서 번호  가장 비중이 높은 토픽  가장 높은 토픽의 비중                            각 토픽의 비중\n",
       "0       0           6.0        0.9526                     [(6, 0.952626)]\n",
       "1       1           1.0        0.9591                    [(1, 0.9590864)]\n",
       "2       2           2.0        0.9437                    [(2, 0.9437376)]\n",
       "3       3           6.0        0.9182                   [(6, 0.91817605)]\n",
       "4       4           2.0        0.9571                    [(2, 0.9571375)]\n",
       "5       5           2.0        0.9750                    [(2, 0.9749974)]\n",
       "6       6           1.0        0.8507  [(1, 0.8507309), (4, 0.107158735)]\n",
       "7       7           1.0        0.9791                    [(1, 0.9790682)]\n",
       "8       8           8.0        0.9640                   [(8, 0.96399474)]\n",
       "9       9           3.0        0.9500                    [(3, 0.9499769)]\n",
       "10     10           1.0        0.9571                    [(1, 0.9571376)]"
      ]
     },
     "execution_count": 37,
     "metadata": {},
     "output_type": "execute_result"
    }
   ],
   "source": [
    "topictable = make_topictable_per_doc(ldamodel, corpus)\n",
    "topictable = topictable.reset_index() # 문서 번호을 의미하는 열(column)로 사용하기 위해서 인덱스 열을 하나 더 만든다.\n",
    "topictable.columns = ['문서 번호', '가장 비중이 높은 토픽', '가장 높은 토픽의 비중', '각 토픽의 비중']\n",
    "topictable[:11]"
   ]
  },
  {
   "cell_type": "code",
   "execution_count": null,
   "metadata": {
    "id": "NqfCSwVmgTNt"
   },
   "outputs": [],
   "source": []
  }
 ],
 "metadata": {
  "colab": {
   "collapsed_sections": [],
   "name": "빅데_팀플_토픽모델링의 사본",
   "provenance": [],
   "toc_visible": true
  },
  "kernelspec": {
   "display_name": "Python 3 (ipykernel)",
   "language": "python",
   "name": "python3"
  },
  "language_info": {
   "codemirror_mode": {
    "name": "ipython",
    "version": 3
   },
   "file_extension": ".py",
   "mimetype": "text/x-python",
   "name": "python",
   "nbconvert_exporter": "python",
   "pygments_lexer": "ipython3",
   "version": "3.8.5"
  }
 },
 "nbformat": 4,
 "nbformat_minor": 1
}
