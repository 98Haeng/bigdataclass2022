{
  "nbformat": 4,
  "nbformat_minor": 0,
  "metadata": {
    "colab": {
      "provenance": []
    },
    "kernelspec": {
      "name": "python3",
      "display_name": "Python 3"
    },
    "language_info": {
      "name": "python"
    }
  },
  "cells": [
    {
      "cell_type": "code",
      "execution_count": null,
      "metadata": {
        "colab": {
          "base_uri": "https://localhost:8080/",
          "height": 1000
        },
        "id": "BB2fxYb3oQAM",
        "outputId": "432f22e5-7b28-4cc9-8f11-3791c8f4741c"
      },
      "outputs": [
        {
          "output_type": "stream",
          "name": "stdout",
          "text": [
            "Looking in indexes: https://pypi.org/simple, https://us-python.pkg.dev/colab-wheels/public/simple/\n",
            "Collecting pororo\n",
            "  Downloading pororo-0.4.2-py3-none-any.whl (256 kB)\n",
            "\u001b[K     |████████████████████████████████| 256 kB 15.2 MB/s \n",
            "\u001b[?25hRequirement already satisfied: lxml in /usr/local/lib/python3.7/dist-packages (from pororo) (4.2.6)\n",
            "Requirement already satisfied: joblib in /usr/local/lib/python3.7/dist-packages (from pororo) (1.1.0)\n",
            "Collecting whoosh\n",
            "  Downloading Whoosh-2.7.4-py2.py3-none-any.whl (468 kB)\n",
            "\u001b[K     |████████████████████████████████| 468 kB 39.5 MB/s \n",
            "\u001b[?25hCollecting kss\n",
            "  Downloading kss-3.4.2.tar.gz (42.4 MB)\n",
            "\u001b[K     |████████████████████████████████| 42.4 MB 1.2 MB/s \n",
            "\u001b[?25hCollecting torchvision==0.7.0\n",
            "  Downloading torchvision-0.7.0-cp37-cp37m-manylinux1_x86_64.whl (5.9 MB)\n",
            "\u001b[K     |████████████████████████████████| 5.9 MB 7.6 MB/s \n",
            "\u001b[?25hCollecting sentence-transformers>=0.4.1.2\n",
            "  Downloading sentence-transformers-2.2.0.tar.gz (79 kB)\n",
            "\u001b[K     |████████████████████████████████| 79 kB 3.3 MB/s \n",
            "\u001b[?25hCollecting word2word\n",
            "  Downloading word2word-1.0.0-py3-none-any.whl (31 kB)\n",
            "Collecting fairseq>=0.10.2\n",
            "  Downloading fairseq-0.10.2-cp37-cp37m-manylinux1_x86_64.whl (1.7 MB)\n",
            "\u001b[K     |████████████████████████████████| 1.7 MB 35.6 MB/s \n",
            "\u001b[?25hCollecting g2p-en\n",
            "  Downloading g2p_en-2.1.0-py3-none-any.whl (3.1 MB)\n",
            "\u001b[K     |████████████████████████████████| 3.1 MB 17.5 MB/s \n",
            "\u001b[?25hCollecting wget\n",
            "  Downloading wget-3.2.zip (10 kB)\n",
            "Collecting nltk>=3.5\n",
            "  Downloading nltk-3.7-py3-none-any.whl (1.5 MB)\n",
            "\u001b[K     |████████████████████████████████| 1.5 MB 16.9 MB/s \n",
            "\u001b[?25hCollecting marisa-trie\n",
            "  Downloading marisa_trie-0.7.7-cp37-cp37m-manylinux_2_5_x86_64.manylinux1_x86_64.manylinux_2_12_x86_64.manylinux2010_x86_64.whl (1.2 MB)\n",
            "\u001b[K     |████████████████████████████████| 1.2 MB 46.7 MB/s \n",
            "\u001b[?25hCollecting torch==1.6.0\n",
            "  Downloading torch-1.6.0-cp37-cp37m-manylinux1_x86_64.whl (748.8 MB)\n",
            "\u001b[K     |████████████████████████████████| 748.8 MB 16 kB/s \n",
            "\u001b[?25hCollecting transformers>=4.0.0\n",
            "  Downloading transformers-4.19.2-py3-none-any.whl (4.2 MB)\n",
            "\u001b[K     |████████████████████████████████| 4.2 MB 39.7 MB/s \n",
            "\u001b[?25hRequirement already satisfied: pillow>=4.1.1 in /usr/local/lib/python3.7/dist-packages (from pororo) (7.1.2)\n",
            "Requirement already satisfied: future in /usr/local/lib/python3.7/dist-packages (from torch==1.6.0->pororo) (0.16.0)\n",
            "Requirement already satisfied: numpy in /usr/local/lib/python3.7/dist-packages (from torch==1.6.0->pororo) (1.21.6)\n",
            "Requirement already satisfied: regex in /usr/local/lib/python3.7/dist-packages (from fairseq>=0.10.2->pororo) (2019.12.20)\n",
            "Collecting hydra-core\n",
            "  Downloading hydra_core-1.2.0-py3-none-any.whl (151 kB)\n",
            "\u001b[K     |████████████████████████████████| 151 kB 50.4 MB/s \n",
            "\u001b[?25hCollecting dataclasses\n",
            "  Downloading dataclasses-0.6-py3-none-any.whl (14 kB)\n",
            "Requirement already satisfied: cython in /usr/local/lib/python3.7/dist-packages (from fairseq>=0.10.2->pororo) (0.29.30)\n",
            "Requirement already satisfied: tqdm in /usr/local/lib/python3.7/dist-packages (from fairseq>=0.10.2->pororo) (4.64.0)\n",
            "Collecting sacrebleu>=1.4.12\n",
            "  Downloading sacrebleu-2.1.0-py3-none-any.whl (92 kB)\n",
            "\u001b[K     |████████████████████████████████| 92 kB 9.3 MB/s \n",
            "\u001b[?25hRequirement already satisfied: cffi in /usr/local/lib/python3.7/dist-packages (from fairseq>=0.10.2->pororo) (1.15.0)\n",
            "Collecting regex\n",
            "  Downloading regex-2022.4.24-cp37-cp37m-manylinux_2_17_x86_64.manylinux2014_x86_64.whl (749 kB)\n",
            "\u001b[K     |████████████████████████████████| 749 kB 47.4 MB/s \n",
            "\u001b[?25hRequirement already satisfied: click in /usr/local/lib/python3.7/dist-packages (from nltk>=3.5->pororo) (7.1.2)\n",
            "Requirement already satisfied: tabulate>=0.8.9 in /usr/local/lib/python3.7/dist-packages (from sacrebleu>=1.4.12->fairseq>=0.10.2->pororo) (0.8.9)\n",
            "Collecting colorama\n",
            "  Downloading colorama-0.4.4-py2.py3-none-any.whl (16 kB)\n",
            "Collecting portalocker\n",
            "  Downloading portalocker-2.4.0-py2.py3-none-any.whl (16 kB)\n",
            "Requirement already satisfied: scikit-learn in /usr/local/lib/python3.7/dist-packages (from sentence-transformers>=0.4.1.2->pororo) (1.0.2)\n",
            "Requirement already satisfied: scipy in /usr/local/lib/python3.7/dist-packages (from sentence-transformers>=0.4.1.2->pororo) (1.4.1)\n",
            "Collecting sentencepiece\n",
            "  Downloading sentencepiece-0.1.96-cp37-cp37m-manylinux_2_17_x86_64.manylinux2014_x86_64.whl (1.2 MB)\n",
            "\u001b[K     |████████████████████████████████| 1.2 MB 54.4 MB/s \n",
            "\u001b[?25hCollecting huggingface-hub\n",
            "  Downloading huggingface_hub-0.7.0-py3-none-any.whl (86 kB)\n",
            "\u001b[K     |████████████████████████████████| 86 kB 3.4 MB/s \n",
            "\u001b[?25hRequirement already satisfied: packaging>=20.0 in /usr/local/lib/python3.7/dist-packages (from transformers>=4.0.0->pororo) (21.3)\n",
            "Requirement already satisfied: importlib-metadata in /usr/local/lib/python3.7/dist-packages (from transformers>=4.0.0->pororo) (4.11.4)\n",
            "Requirement already satisfied: filelock in /usr/local/lib/python3.7/dist-packages (from transformers>=4.0.0->pororo) (3.7.0)\n",
            "Requirement already satisfied: requests in /usr/local/lib/python3.7/dist-packages (from transformers>=4.0.0->pororo) (2.23.0)\n",
            "Collecting tokenizers!=0.11.3,<0.13,>=0.11.1\n",
            "  Downloading tokenizers-0.12.1-cp37-cp37m-manylinux_2_12_x86_64.manylinux2010_x86_64.whl (6.6 MB)\n",
            "\u001b[K     |████████████████████████████████| 6.6 MB 49.5 MB/s \n",
            "\u001b[?25hCollecting pyyaml>=5.1\n",
            "  Downloading PyYAML-6.0-cp37-cp37m-manylinux_2_5_x86_64.manylinux1_x86_64.manylinux_2_12_x86_64.manylinux2010_x86_64.whl (596 kB)\n",
            "\u001b[K     |████████████████████████████████| 596 kB 48.9 MB/s \n",
            "\u001b[?25hRequirement already satisfied: typing-extensions>=3.7.4.3 in /usr/local/lib/python3.7/dist-packages (from huggingface-hub->sentence-transformers>=0.4.1.2->pororo) (4.2.0)\n",
            "Requirement already satisfied: pyparsing!=3.0.5,>=2.0.2 in /usr/local/lib/python3.7/dist-packages (from packaging>=20.0->transformers>=4.0.0->pororo) (3.0.9)\n",
            "Requirement already satisfied: pycparser in /usr/local/lib/python3.7/dist-packages (from cffi->fairseq>=0.10.2->pororo) (2.21)\n",
            "Collecting distance>=0.1.3\n",
            "  Downloading Distance-0.1.3.tar.gz (180 kB)\n",
            "\u001b[K     |████████████████████████████████| 180 kB 62.6 MB/s \n",
            "\u001b[?25hRequirement already satisfied: inflect>=0.3.1 in /usr/local/lib/python3.7/dist-packages (from g2p-en->pororo) (2.1.0)\n",
            "Collecting omegaconf~=2.2\n",
            "  Downloading omegaconf-2.2.2-py3-none-any.whl (79 kB)\n",
            "\u001b[K     |████████████████████████████████| 79 kB 4.5 MB/s \n",
            "\u001b[?25hRequirement already satisfied: importlib-resources in /usr/local/lib/python3.7/dist-packages (from hydra-core->fairseq>=0.10.2->pororo) (5.7.1)\n",
            "Collecting antlr4-python3-runtime==4.9.*\n",
            "  Downloading antlr4-python3-runtime-4.9.3.tar.gz (117 kB)\n",
            "\u001b[K     |████████████████████████████████| 117 kB 63.4 MB/s \n",
            "\u001b[?25hRequirement already satisfied: zipp>=0.5 in /usr/local/lib/python3.7/dist-packages (from importlib-metadata->transformers>=4.0.0->pororo) (3.8.0)\n",
            "Collecting emoji\n",
            "  Downloading emoji-1.7.0.tar.gz (175 kB)\n",
            "\u001b[K     |████████████████████████████████| 175 kB 66.9 MB/s \n",
            "\u001b[?25hRequirement already satisfied: more_itertools in /usr/local/lib/python3.7/dist-packages (from kss->pororo) (8.13.0)\n",
            "Requirement already satisfied: setuptools in /usr/local/lib/python3.7/dist-packages (from marisa-trie->pororo) (57.4.0)\n",
            "Requirement already satisfied: certifi>=2017.4.17 in /usr/local/lib/python3.7/dist-packages (from requests->transformers>=4.0.0->pororo) (2022.5.18.1)\n",
            "Requirement already satisfied: chardet<4,>=3.0.2 in /usr/local/lib/python3.7/dist-packages (from requests->transformers>=4.0.0->pororo) (3.0.4)\n",
            "Requirement already satisfied: urllib3!=1.25.0,!=1.25.1,<1.26,>=1.21.1 in /usr/local/lib/python3.7/dist-packages (from requests->transformers>=4.0.0->pororo) (1.24.3)\n",
            "Requirement already satisfied: idna<3,>=2.5 in /usr/local/lib/python3.7/dist-packages (from requests->transformers>=4.0.0->pororo) (2.10)\n",
            "Requirement already satisfied: threadpoolctl>=2.0.0 in /usr/local/lib/python3.7/dist-packages (from scikit-learn->sentence-transformers>=0.4.1.2->pororo) (3.1.0)\n",
            "Building wheels for collected packages: sentence-transformers, distance, antlr4-python3-runtime, kss, emoji, wget\n",
            "  Building wheel for sentence-transformers (setup.py) ... \u001b[?25l\u001b[?25hdone\n",
            "  Created wheel for sentence-transformers: filename=sentence_transformers-2.2.0-py3-none-any.whl size=120747 sha256=1f3d5c6813bc52ac6fb8c36105e42019052b1719e3b34444ad42a05a7dfa778a\n",
            "  Stored in directory: /root/.cache/pip/wheels/83/c0/df/b6873ab7aac3f2465aa9144b6b4c41c4391cfecc027c8b07e7\n",
            "  Building wheel for distance (setup.py) ... \u001b[?25l\u001b[?25hdone\n",
            "  Created wheel for distance: filename=Distance-0.1.3-py3-none-any.whl size=16276 sha256=e77cce527124137a1e34f2916fc6fe9179ac04137ff75d9e389029f001c550e9\n",
            "  Stored in directory: /root/.cache/pip/wheels/b2/10/1b/96fca621a1be378e2fe104cfb0d160bb6cdf3d04a3d35266cc\n",
            "  Building wheel for antlr4-python3-runtime (setup.py) ... \u001b[?25l\u001b[?25hdone\n",
            "  Created wheel for antlr4-python3-runtime: filename=antlr4_python3_runtime-4.9.3-py3-none-any.whl size=144575 sha256=fd0bed86ce7537464270534faf98f29e217b6cad05da56cc5c2fa6014c83cc66\n",
            "  Stored in directory: /root/.cache/pip/wheels/8b/8d/53/2af8772d9aec614e3fc65e53d4a993ad73c61daa8bbd85a873\n",
            "  Building wheel for kss (setup.py) ... \u001b[?25l\u001b[?25hdone\n",
            "  Created wheel for kss: filename=kss-3.4.2-py3-none-any.whl size=42448069 sha256=b93aa1418f6586fcb2276c19fbee12355a9f08f98b75d75ba68df4d03841e173\n",
            "  Stored in directory: /root/.cache/pip/wheels/ef/22/aa/6399b60516a067ec97fa6599fb2d472aeb25e3f9ee6dae3224\n",
            "  Building wheel for emoji (setup.py) ... \u001b[?25l\u001b[?25hdone\n",
            "  Created wheel for emoji: filename=emoji-1.7.0-py3-none-any.whl size=171046 sha256=bf90a6d8d75e89b0a905a3e029aa349bc50df6919a9a3e61c6fe08500d26266f\n",
            "  Stored in directory: /root/.cache/pip/wheels/8a/4e/b6/57b01db010d17ef6ea9b40300af725ef3e210cb1acfb7ac8b6\n",
            "  Building wheel for wget (setup.py) ... \u001b[?25l\u001b[?25hdone\n",
            "  Created wheel for wget: filename=wget-3.2-py3-none-any.whl size=9675 sha256=7f5db806994b396a647405fd30a9f801c388b5c8ad22341d1114db1117bb7cea\n",
            "  Stored in directory: /root/.cache/pip/wheels/a1/b6/7c/0e63e34eb06634181c63adacca38b79ff8f35c37e3c13e3c02\n",
            "Successfully built sentence-transformers distance antlr4-python3-runtime kss emoji wget\n",
            "Installing collected packages: pyyaml, antlr4-python3-runtime, torch, tokenizers, regex, portalocker, omegaconf, huggingface-hub, colorama, wget, transformers, torchvision, sentencepiece, sacrebleu, nltk, hydra-core, emoji, distance, dataclasses, word2word, whoosh, sentence-transformers, marisa-trie, kss, g2p-en, fairseq, pororo\n",
            "  Attempting uninstall: pyyaml\n",
            "    Found existing installation: PyYAML 3.13\n",
            "    Uninstalling PyYAML-3.13:\n",
            "      Successfully uninstalled PyYAML-3.13\n",
            "  Attempting uninstall: torch\n",
            "    Found existing installation: torch 1.11.0+cu113\n",
            "    Uninstalling torch-1.11.0+cu113:\n",
            "      Successfully uninstalled torch-1.11.0+cu113\n",
            "  Attempting uninstall: regex\n",
            "    Found existing installation: regex 2019.12.20\n",
            "    Uninstalling regex-2019.12.20:\n",
            "      Successfully uninstalled regex-2019.12.20\n",
            "  Attempting uninstall: torchvision\n",
            "    Found existing installation: torchvision 0.12.0+cu113\n",
            "    Uninstalling torchvision-0.12.0+cu113:\n",
            "      Successfully uninstalled torchvision-0.12.0+cu113\n",
            "  Attempting uninstall: nltk\n",
            "    Found existing installation: nltk 3.2.5\n",
            "    Uninstalling nltk-3.2.5:\n",
            "      Successfully uninstalled nltk-3.2.5\n",
            "\u001b[31mERROR: pip's dependency resolver does not currently take into account all the packages that are installed. This behaviour is the source of the following dependency conflicts.\n",
            "torchtext 0.12.0 requires torch==1.11.0, but you have torch 1.6.0 which is incompatible.\n",
            "torchaudio 0.11.0+cu113 requires torch==1.11.0, but you have torch 1.6.0 which is incompatible.\u001b[0m\n",
            "Successfully installed antlr4-python3-runtime-4.9.3 colorama-0.4.4 dataclasses-0.6 distance-0.1.3 emoji-1.7.0 fairseq-0.10.2 g2p-en-2.1.0 huggingface-hub-0.7.0 hydra-core-1.2.0 kss-3.4.2 marisa-trie-0.7.7 nltk-3.7 omegaconf-2.2.2 pororo-0.4.2 portalocker-2.4.0 pyyaml-6.0 regex-2022.4.24 sacrebleu-2.1.0 sentence-transformers-2.2.0 sentencepiece-0.1.96 tokenizers-0.12.1 torch-1.6.0 torchvision-0.7.0 transformers-4.19.2 wget-3.2 whoosh-2.7.4 word2word-1.0.0\n"
          ]
        },
        {
          "output_type": "display_data",
          "data": {
            "application/vnd.colab-display-data+json": {
              "pip_warning": {
                "packages": [
                  "pydevd_plugins"
                ]
              }
            }
          },
          "metadata": {}
        }
      ],
      "source": [
        "pip install pororo # Pororo 설치"
      ]
    },
    {
      "cell_type": "code",
      "source": [
        "from google.colab import files #파일불러오기\n",
        "myfile=files.upload()"
      ],
      "metadata": {
        "colab": {
          "resources": {
            "http://localhost:8080/nbextensions/google.colab/files.js": {
              "data": "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",
              "ok": true,
              "headers": [
                [
                  "content-type",
                  "application/javascript"
                ]
              ],
              "status": 200,
              "status_text": ""
            }
          },
          "base_uri": "https://localhost:8080/",
          "height": 77
        },
        "id": "VTFBZk8CoSHF",
        "outputId": "9f638f68-bd14-4fc7-8c89-522d3b8e7732"
      },
      "execution_count": null,
      "outputs": [
        {
          "output_type": "display_data",
          "data": {
            "text/plain": [
              "<IPython.core.display.HTML object>"
            ],
            "text/html": [
              "\n",
              "     <input type=\"file\" id=\"files-c3f92f30-5a51-47c4-80a3-d46d242019cc\" name=\"files[]\" multiple disabled\n",
              "        style=\"border:none\" />\n",
              "     <output id=\"result-c3f92f30-5a51-47c4-80a3-d46d242019cc\">\n",
              "      Upload widget is only available when the cell has been executed in the\n",
              "      current browser session. Please rerun this cell to enable.\n",
              "      </output>\n",
              "      <script src=\"/nbextensions/google.colab/files.js\"></script> "
            ]
          },
          "metadata": {}
        },
        {
          "output_type": "stream",
          "name": "stdout",
          "text": [
            "Saving 나머지관광지리뷰.csv to 나머지관광지리뷰.csv\n"
          ]
        }
      ]
    },
    {
      "cell_type": "code",
      "source": [
        "import pandas as pd\n",
        "import numpy as np"
      ],
      "metadata": {
        "id": "L916NOrfoVhh"
      },
      "execution_count": null,
      "outputs": []
    },
    {
      "cell_type": "code",
      "source": [
        "import io\n",
        "review=pd.read_csv(io.BytesIO(myfile['나머지관광지리뷰.csv']))\n",
        "# review1=review.iloc[:] #전체 데이터 중에서 50개만 우선 출력\n",
        "review.head()"
      ],
      "metadata": {
        "colab": {
          "base_uri": "https://localhost:8080/",
          "height": 206
        },
        "id": "l4ZlJRsDoYo9",
        "outputId": "945be6b5-a911-415d-f06c-ebcc1c9f6db4"
      },
      "execution_count": null,
      "outputs": [
        {
          "output_type": "execute_result",
          "data": {
            "text/plain": [
              "            관광지                                               리뷰내용\n",
              "0       안양 예술공원                                             안양예술공원\n",
              "1       안양 예술공원  갈때마다 새로운 프로그램과,유명한 아티스트들의작품들이 많다.볼거리도많고,빽빽히있는 ...\n",
              "2       안양 예술공원                            어르신도 살방살방 다니기 높지 않은 공원길\n",
              "3       안양 예술공원  안양시내에 이런 쉼터가 잇다는게 행복한 일이다. 주변의 사찰과 산책로가 그리고 주차...\n",
              "4  부천 활박물관과 궁도장                                  다른 박물관과 같이 보기 좋아요"
            ],
            "text/html": [
              "\n",
              "  <div id=\"df-d9568e92-9e0f-4d18-834c-e9c416a5e4cb\">\n",
              "    <div class=\"colab-df-container\">\n",
              "      <div>\n",
              "<style scoped>\n",
              "    .dataframe tbody tr th:only-of-type {\n",
              "        vertical-align: middle;\n",
              "    }\n",
              "\n",
              "    .dataframe tbody tr th {\n",
              "        vertical-align: top;\n",
              "    }\n",
              "\n",
              "    .dataframe thead th {\n",
              "        text-align: right;\n",
              "    }\n",
              "</style>\n",
              "<table border=\"1\" class=\"dataframe\">\n",
              "  <thead>\n",
              "    <tr style=\"text-align: right;\">\n",
              "      <th></th>\n",
              "      <th>관광지</th>\n",
              "      <th>리뷰내용</th>\n",
              "    </tr>\n",
              "  </thead>\n",
              "  <tbody>\n",
              "    <tr>\n",
              "      <th>0</th>\n",
              "      <td>안양 예술공원</td>\n",
              "      <td>안양예술공원</td>\n",
              "    </tr>\n",
              "    <tr>\n",
              "      <th>1</th>\n",
              "      <td>안양 예술공원</td>\n",
              "      <td>갈때마다 새로운 프로그램과,유명한 아티스트들의작품들이 많다.볼거리도많고,빽빽히있는 ...</td>\n",
              "    </tr>\n",
              "    <tr>\n",
              "      <th>2</th>\n",
              "      <td>안양 예술공원</td>\n",
              "      <td>어르신도 살방살방 다니기 높지 않은 공원길</td>\n",
              "    </tr>\n",
              "    <tr>\n",
              "      <th>3</th>\n",
              "      <td>안양 예술공원</td>\n",
              "      <td>안양시내에 이런 쉼터가 잇다는게 행복한 일이다. 주변의 사찰과 산책로가 그리고 주차...</td>\n",
              "    </tr>\n",
              "    <tr>\n",
              "      <th>4</th>\n",
              "      <td>부천 활박물관과 궁도장</td>\n",
              "      <td>다른 박물관과 같이 보기 좋아요</td>\n",
              "    </tr>\n",
              "  </tbody>\n",
              "</table>\n",
              "</div>\n",
              "      <button class=\"colab-df-convert\" onclick=\"convertToInteractive('df-d9568e92-9e0f-4d18-834c-e9c416a5e4cb')\"\n",
              "              title=\"Convert this dataframe to an interactive table.\"\n",
              "              style=\"display:none;\">\n",
              "        \n",
              "  <svg xmlns=\"http://www.w3.org/2000/svg\" height=\"24px\"viewBox=\"0 0 24 24\"\n",
              "       width=\"24px\">\n",
              "    <path d=\"M0 0h24v24H0V0z\" fill=\"none\"/>\n",
              "    <path d=\"M18.56 5.44l.94 2.06.94-2.06 2.06-.94-2.06-.94-.94-2.06-.94 2.06-2.06.94zm-11 1L8.5 8.5l.94-2.06 2.06-.94-2.06-.94L8.5 2.5l-.94 2.06-2.06.94zm10 10l.94 2.06.94-2.06 2.06-.94-2.06-.94-.94-2.06-.94 2.06-2.06.94z\"/><path d=\"M17.41 7.96l-1.37-1.37c-.4-.4-.92-.59-1.43-.59-.52 0-1.04.2-1.43.59L10.3 9.45l-7.72 7.72c-.78.78-.78 2.05 0 2.83L4 21.41c.39.39.9.59 1.41.59.51 0 1.02-.2 1.41-.59l7.78-7.78 2.81-2.81c.8-.78.8-2.07 0-2.86zM5.41 20L4 18.59l7.72-7.72 1.47 1.35L5.41 20z\"/>\n",
              "  </svg>\n",
              "      </button>\n",
              "      \n",
              "  <style>\n",
              "    .colab-df-container {\n",
              "      display:flex;\n",
              "      flex-wrap:wrap;\n",
              "      gap: 12px;\n",
              "    }\n",
              "\n",
              "    .colab-df-convert {\n",
              "      background-color: #E8F0FE;\n",
              "      border: none;\n",
              "      border-radius: 50%;\n",
              "      cursor: pointer;\n",
              "      display: none;\n",
              "      fill: #1967D2;\n",
              "      height: 32px;\n",
              "      padding: 0 0 0 0;\n",
              "      width: 32px;\n",
              "    }\n",
              "\n",
              "    .colab-df-convert:hover {\n",
              "      background-color: #E2EBFA;\n",
              "      box-shadow: 0px 1px 2px rgba(60, 64, 67, 0.3), 0px 1px 3px 1px rgba(60, 64, 67, 0.15);\n",
              "      fill: #174EA6;\n",
              "    }\n",
              "\n",
              "    [theme=dark] .colab-df-convert {\n",
              "      background-color: #3B4455;\n",
              "      fill: #D2E3FC;\n",
              "    }\n",
              "\n",
              "    [theme=dark] .colab-df-convert:hover {\n",
              "      background-color: #434B5C;\n",
              "      box-shadow: 0px 1px 3px 1px rgba(0, 0, 0, 0.15);\n",
              "      filter: drop-shadow(0px 1px 2px rgba(0, 0, 0, 0.3));\n",
              "      fill: #FFFFFF;\n",
              "    }\n",
              "  </style>\n",
              "\n",
              "      <script>\n",
              "        const buttonEl =\n",
              "          document.querySelector('#df-d9568e92-9e0f-4d18-834c-e9c416a5e4cb button.colab-df-convert');\n",
              "        buttonEl.style.display =\n",
              "          google.colab.kernel.accessAllowed ? 'block' : 'none';\n",
              "\n",
              "        async function convertToInteractive(key) {\n",
              "          const element = document.querySelector('#df-d9568e92-9e0f-4d18-834c-e9c416a5e4cb');\n",
              "          const dataTable =\n",
              "            await google.colab.kernel.invokeFunction('convertToInteractive',\n",
              "                                                     [key], {});\n",
              "          if (!dataTable) return;\n",
              "\n",
              "          const docLinkHtml = 'Like what you see? Visit the ' +\n",
              "            '<a target=\"_blank\" href=https://colab.research.google.com/notebooks/data_table.ipynb>data table notebook</a>'\n",
              "            + ' to learn more about interactive tables.';\n",
              "          element.innerHTML = '';\n",
              "          dataTable['output_type'] = 'display_data';\n",
              "          await google.colab.output.renderOutput(dataTable, element);\n",
              "          const docLink = document.createElement('div');\n",
              "          docLink.innerHTML = docLinkHtml;\n",
              "          element.appendChild(docLink);\n",
              "        }\n",
              "      </script>\n",
              "    </div>\n",
              "  </div>\n",
              "  "
            ]
          },
          "metadata": {},
          "execution_count": 4
        }
      ]
    },
    {
      "cell_type": "code",
      "source": [
        "import time\n",
        "from pororo import Pororo"
      ],
      "metadata": {
        "id": "-Tr_iH7IobEE"
      },
      "execution_count": null,
      "outputs": []
    },
    {
      "cell_type": "code",
      "source": [
        "def sentiment_analysis(comment_list):\n",
        "  sa=Pororo(task='sentiment',lang='ko') # 한국어 형태로 분석\n",
        "\n",
        "  pos_prob, neg_prob=0.0, 0.0\n",
        "  for comment in review['리뷰내용']: #리뷰내용 칼럼에 있는 리뷰들 분석\n",
        "    sa_result=sa(comment[0],show_probs=True)\n",
        "\n",
        "    pos_prob += sa_result['positive']\n",
        "    neg_prob += sa_result['negative']\n",
        "\n",
        "  total_num = len(comment_list) # 크롤링한 댓글 수\n",
        "  pos_prob, neg_prob = pos_prob/total_num, neg_prob/total_num\n",
        "  pos_perc, neg_perc = round(pos_prob*100), round(neg_prob*100) #긍정확률, 부정확률\n",
        "\n",
        "  print('##### 댓글 선호도 분석 결과 #####')\n",
        "  print(f'긍정: {pos_perc}%, 부정: {neg_perc}%') #결과 출력"
      ],
      "metadata": {
        "id": "ibu-ilCXouD5"
      },
      "execution_count": null,
      "outputs": []
    },
    {
      "cell_type": "code",
      "source": [
        "for i in range(len(review)):\n",
        "  a=review.리뷰내용[i]\n",
        "  review['리뷰내용'][i]=str(a).split(':')"
      ],
      "metadata": {
        "id": "tOsu6cbkoyZ5"
      },
      "execution_count": null,
      "outputs": []
    },
    {
      "cell_type": "code",
      "source": [
        "review['리뷰내용_1']=review['리뷰내용'].str[1]\n",
        "review['리뷰내용_0']=review['리뷰내용'].str[0]"
      ],
      "metadata": {
        "id": "WArRr55Po2Bc"
      },
      "execution_count": null,
      "outputs": []
    },
    {
      "cell_type": "code",
      "source": [
        "# NaN값을 리뷰없음으로 채움\n",
        "review.fillna('리뷰없음',inplace=True)"
      ],
      "metadata": {
        "id": "ITksJrmMo6c0"
      },
      "execution_count": null,
      "outputs": []
    },
    {
      "cell_type": "code",
      "source": [
        "import re\n",
        "only_kor=re.compile('[^ ㄱ-ㅣ가-힣+]')\n",
        "for i in range(len(review)):\n",
        "  review.리뷰내용_0[i]=only_kor.sub('',review.리뷰내용_0[i])"
      ],
      "metadata": {
        "id": "RutBDsRno6e9"
      },
      "execution_count": null,
      "outputs": []
    },
    {
      "cell_type": "code",
      "source": [
        "for i in range(len(review)):\n",
        "  review.리뷰내용_1[i]=only_kor.sub('',review.리뷰내용_1[i])"
      ],
      "metadata": {
        "id": "W4Q1FPguo6hE"
      },
      "execution_count": null,
      "outputs": []
    },
    {
      "cell_type": "code",
      "source": [
        "sentiment_analysis(review['리뷰내용_0'])\n",
        "sentiment_analysis(review['리뷰내용_1'])"
      ],
      "metadata": {
        "colab": {
          "base_uri": "https://localhost:8080/"
        },
        "id": "UhTN82bxo6jK",
        "outputId": "6b97ea35-f5f5-4157-95c6-adbb0828cef4"
      },
      "execution_count": null,
      "outputs": [
        {
          "output_type": "stream",
          "name": "stderr",
          "text": [
            "\n",
            "\n"
          ]
        },
        {
          "output_type": "stream",
          "name": "stdout",
          "text": [
            "##### 댓글 선호도 분석 결과 #####\n",
            "긍정: 68%, 부정: 32%\n",
            "##### 댓글 선호도 분석 결과 #####\n",
            "긍정: 68%, 부정: 32%\n"
          ]
        }
      ]
    },
    {
      "cell_type": "code",
      "source": [
        "sa = Pororo(task=\"sentiment\", model=\"brainbert.base.ko.nsmc\", lang=\"ko\") #한국어 문장 감성 분석"
      ],
      "metadata": {
        "colab": {
          "base_uri": "https://localhost:8080/"
        },
        "id": "-ZU1f2bbo6lT",
        "outputId": "b17b6247-7819-4972-f68d-86dff4dad249"
      },
      "execution_count": null,
      "outputs": [
        {
          "output_type": "stream",
          "name": "stderr",
          "text": [
            "\n"
          ]
        }
      ]
    },
    {
      "cell_type": "code",
      "source": [
        "df=review['리뷰내용_0']"
      ],
      "metadata": {
        "id": "IUU6si0so6pe"
      },
      "execution_count": null,
      "outputs": []
    },
    {
      "cell_type": "code",
      "source": [
        "for r in range(len(review)): #리뷰문장 개수만큼의 범위일때 긍정확률, 부정확률 계산 결과 출력\n",
        "  print(sa(df[r])) #show_probs=False이면 positive or negative만 나옴 이 항목에 대해서는 바로 밑에 나옴 "
      ],
      "metadata": {
        "colab": {
          "base_uri": "https://localhost:8080/"
        },
        "id": "UYXRqkOSo6ri",
        "outputId": "4fb54c3b-2ff9-48f9-ad33-3a6e7de237f3"
      },
      "execution_count": null,
      "outputs": [
        {
          "output_type": "stream",
          "name": "stdout",
          "text": [
            "Positive\n",
            "Positive\n",
            "Negative\n",
            "Positive\n",
            "Positive\n",
            "Positive\n",
            "Positive\n",
            "Positive\n",
            "Positive\n",
            "Positive\n",
            "Negative\n",
            "Negative\n",
            "Negative\n",
            "Positive\n",
            "Positive\n",
            "Negative\n",
            "Negative\n",
            "Positive\n",
            "Negative\n",
            "Negative\n",
            "Positive\n",
            "Positive\n",
            "Positive\n",
            "Positive\n",
            "Positive\n",
            "Positive\n",
            "Positive\n",
            "Positive\n",
            "Negative\n",
            "Positive\n",
            "Positive\n",
            "Negative\n",
            "Negative\n",
            "Negative\n",
            "Positive\n",
            "Positive\n",
            "Positive\n",
            "Positive\n",
            "Positive\n",
            "Positive\n",
            "Positive\n",
            "Positive\n",
            "Positive\n",
            "Positive\n",
            "Positive\n",
            "Positive\n",
            "Positive\n",
            "Negative\n",
            "Positive\n",
            "Negative\n",
            "Positive\n",
            "Positive\n",
            "Positive\n",
            "Positive\n",
            "Positive\n",
            "Negative\n",
            "Positive\n",
            "Positive\n",
            "Positive\n",
            "Positive\n",
            "Positive\n",
            "Positive\n",
            "Positive\n",
            "Positive\n",
            "Positive\n",
            "Positive\n",
            "Positive\n",
            "Positive\n",
            "Positive\n",
            "Positive\n",
            "Negative\n",
            "Positive\n",
            "Positive\n",
            "Positive\n",
            "Positive\n",
            "Positive\n",
            "Negative\n",
            "Negative\n",
            "Positive\n",
            "Positive\n",
            "Positive\n",
            "Positive\n",
            "Positive\n",
            "Positive\n",
            "Positive\n",
            "Positive\n",
            "Positive\n",
            "Positive\n",
            "Positive\n",
            "Positive\n",
            "Negative\n",
            "Positive\n",
            "Negative\n",
            "Negative\n",
            "Negative\n",
            "Positive\n",
            "Positive\n",
            "Positive\n",
            "Positive\n",
            "Positive\n",
            "Positive\n",
            "Negative\n",
            "Positive\n",
            "Positive\n",
            "Positive\n",
            "Positive\n",
            "Positive\n",
            "Positive\n",
            "Positive\n",
            "Positive\n",
            "Positive\n",
            "Positive\n",
            "Positive\n",
            "Positive\n",
            "Positive\n",
            "Positive\n",
            "Positive\n",
            "Positive\n",
            "Positive\n",
            "Positive\n"
          ]
        }
      ]
    },
    {
      "cell_type": "code",
      "source": [
        "a=[] # 결과를 담기 위해 리스트 형태로 사전 저장\n",
        "b=[] # 결과를 담기 위해 리스트 형태로 사전 저장\n",
        "for r in range(0,len(review)):\n",
        "  result_dict=sa(df[r],show_probs=True)\n",
        "\n",
        "  neg_prob=result_dict['negative'] # Negative인 경우 neg_prob에 포함\n",
        "  pos_prob=result_dict['positive'] # Positive인 경우 pos_prob에 포함\n",
        "\n",
        "  a.append(neg_prob) # neg_prob 하나씩 추가\n",
        "  a\n",
        "  b.append(pos_prob) # neg_prob 하나씩 추가\n",
        "  b"
      ],
      "metadata": {
        "id": "Kv2E05xrpB5Q"
      },
      "execution_count": null,
      "outputs": []
    },
    {
      "cell_type": "code",
      "source": [
        "review['긍정확률_0']=b\n",
        "review['부정확률_0']=a"
      ],
      "metadata": {
        "id": "jshTkNOzpB7m"
      },
      "execution_count": null,
      "outputs": []
    },
    {
      "cell_type": "code",
      "source": [
        "review"
      ],
      "metadata": {
        "colab": {
          "base_uri": "https://localhost:8080/",
          "height": 849
        },
        "id": "BZrlNzTVqFJx",
        "outputId": "052b769c-00b0-47fe-a607-9105ba95ae6e"
      },
      "execution_count": null,
      "outputs": [
        {
          "output_type": "execute_result",
          "data": {
            "text/plain": [
              "              관광지                                               리뷰내용 리뷰내용_1  \\\n",
              "0         안양 예술공원                                           [안양예술공원]   리뷰없음   \n",
              "1         안양 예술공원  [갈때마다 새로운 프로그램과,유명한 아티스트들의작품들이 많다.볼거리도많고,빽빽히있는...   리뷰없음   \n",
              "2         안양 예술공원                          [어르신도 살방살방 다니기 높지 않은 공원길]   리뷰없음   \n",
              "3         안양 예술공원  [안양시내에 이런 쉼터가 잇다는게 행복한 일이다. 주변의 사찰과 산책로가 그리고 주...   리뷰없음   \n",
              "4    부천 활박물관과 궁도장                                [다른 박물관과 같이 보기 좋아요]   리뷰없음   \n",
              "..            ...                                                ...    ...   \n",
              "115    순천 드라마세트장   [서울 달동네와 어린 시절에 보고 경험해 익숙한 셋트장에 잊혀진 기억들이 새록 새록...   리뷰없음   \n",
              "116    순천 드라마세트장                                    [사진찍기 좋은 날에~~^^]   리뷰없음   \n",
              "117    순천 드라마세트장   [기분  좋은  그  어떤  날~~~   그 곳에선  그  어떠한  모습도  예쁘고...   리뷰없음   \n",
              "118    순천 드라마세트장                                             [재밌네요ㅎ]   리뷰없음   \n",
              "119    순천 드라마세트장   [드라마세트장 재밌어요다들 교복 입고 돌아다니시던데 보기좋았어요되게 드라마생각나고 ...   리뷰없음   \n",
              "\n",
              "                                                리뷰내용_0    긍정확률_0    부정확률_0  \\\n",
              "0                                               안양예술공원  0.658668  0.341332   \n",
              "1    갈때마다 새로운 프로그램과유명한 아티스트들의작품들이 많다볼거리도많고빽빽히있는 식당과...  0.998154  0.001846   \n",
              "2                              어르신도 살방살방 다니기 높지 않은 공원길  0.001467  0.998533   \n",
              "3    안양시내에 이런 쉼터가 잇다는게 행복한 일이다 주변의 사찰과 산책로가 그리고 주차장...  0.997952  0.002048   \n",
              "4                                    다른 박물관과 같이 보기 좋아요  0.876585  0.123415   \n",
              "..                                                 ...       ...       ...   \n",
              "115  서울 달동네와 어린 시절에 보고 경험해 익숙한 셋트장에 잊혀진 기억들이 새록 새록특...  0.996559  0.003441   \n",
              "116                                         사진찍기 좋은 날에  0.840935  0.159065   \n",
              "117  기분  좋은  그  어떤  날   그 곳에선  그  어떠한  모습도  예쁘고  사랑...  0.998302  0.001698   \n",
              "118                                              재밌네요ㅎ  0.989792  0.010208   \n",
              "119  드라마세트장 재밌어요다들 교복 입고 돌아다니시던데 보기좋았어요되게 드라마생각나고 예...  0.997712  0.002288   \n",
              "\n",
              "       긍정확률_1    부정확률_1  \n",
              "0    0.005893  0.994107  \n",
              "1    0.005893  0.994107  \n",
              "2    0.005893  0.994107  \n",
              "3    0.005893  0.994107  \n",
              "4    0.005893  0.994107  \n",
              "..        ...       ...  \n",
              "115  0.005893  0.994107  \n",
              "116  0.005893  0.994107  \n",
              "117  0.005893  0.994107  \n",
              "118  0.005893  0.994107  \n",
              "119  0.005893  0.994107  \n",
              "\n",
              "[120 rows x 8 columns]"
            ],
            "text/html": [
              "\n",
              "  <div id=\"df-0ab706a3-b481-45a5-b331-fa2f8c021e16\">\n",
              "    <div class=\"colab-df-container\">\n",
              "      <div>\n",
              "<style scoped>\n",
              "    .dataframe tbody tr th:only-of-type {\n",
              "        vertical-align: middle;\n",
              "    }\n",
              "\n",
              "    .dataframe tbody tr th {\n",
              "        vertical-align: top;\n",
              "    }\n",
              "\n",
              "    .dataframe thead th {\n",
              "        text-align: right;\n",
              "    }\n",
              "</style>\n",
              "<table border=\"1\" class=\"dataframe\">\n",
              "  <thead>\n",
              "    <tr style=\"text-align: right;\">\n",
              "      <th></th>\n",
              "      <th>관광지</th>\n",
              "      <th>리뷰내용</th>\n",
              "      <th>리뷰내용_1</th>\n",
              "      <th>리뷰내용_0</th>\n",
              "      <th>긍정확률_0</th>\n",
              "      <th>부정확률_0</th>\n",
              "      <th>긍정확률_1</th>\n",
              "      <th>부정확률_1</th>\n",
              "    </tr>\n",
              "  </thead>\n",
              "  <tbody>\n",
              "    <tr>\n",
              "      <th>0</th>\n",
              "      <td>안양 예술공원</td>\n",
              "      <td>[안양예술공원]</td>\n",
              "      <td>리뷰없음</td>\n",
              "      <td>안양예술공원</td>\n",
              "      <td>0.658668</td>\n",
              "      <td>0.341332</td>\n",
              "      <td>0.005893</td>\n",
              "      <td>0.994107</td>\n",
              "    </tr>\n",
              "    <tr>\n",
              "      <th>1</th>\n",
              "      <td>안양 예술공원</td>\n",
              "      <td>[갈때마다 새로운 프로그램과,유명한 아티스트들의작품들이 많다.볼거리도많고,빽빽히있는...</td>\n",
              "      <td>리뷰없음</td>\n",
              "      <td>갈때마다 새로운 프로그램과유명한 아티스트들의작품들이 많다볼거리도많고빽빽히있는 식당과...</td>\n",
              "      <td>0.998154</td>\n",
              "      <td>0.001846</td>\n",
              "      <td>0.005893</td>\n",
              "      <td>0.994107</td>\n",
              "    </tr>\n",
              "    <tr>\n",
              "      <th>2</th>\n",
              "      <td>안양 예술공원</td>\n",
              "      <td>[어르신도 살방살방 다니기 높지 않은 공원길]</td>\n",
              "      <td>리뷰없음</td>\n",
              "      <td>어르신도 살방살방 다니기 높지 않은 공원길</td>\n",
              "      <td>0.001467</td>\n",
              "      <td>0.998533</td>\n",
              "      <td>0.005893</td>\n",
              "      <td>0.994107</td>\n",
              "    </tr>\n",
              "    <tr>\n",
              "      <th>3</th>\n",
              "      <td>안양 예술공원</td>\n",
              "      <td>[안양시내에 이런 쉼터가 잇다는게 행복한 일이다. 주변의 사찰과 산책로가 그리고 주...</td>\n",
              "      <td>리뷰없음</td>\n",
              "      <td>안양시내에 이런 쉼터가 잇다는게 행복한 일이다 주변의 사찰과 산책로가 그리고 주차장...</td>\n",
              "      <td>0.997952</td>\n",
              "      <td>0.002048</td>\n",
              "      <td>0.005893</td>\n",
              "      <td>0.994107</td>\n",
              "    </tr>\n",
              "    <tr>\n",
              "      <th>4</th>\n",
              "      <td>부천 활박물관과 궁도장</td>\n",
              "      <td>[다른 박물관과 같이 보기 좋아요]</td>\n",
              "      <td>리뷰없음</td>\n",
              "      <td>다른 박물관과 같이 보기 좋아요</td>\n",
              "      <td>0.876585</td>\n",
              "      <td>0.123415</td>\n",
              "      <td>0.005893</td>\n",
              "      <td>0.994107</td>\n",
              "    </tr>\n",
              "    <tr>\n",
              "      <th>...</th>\n",
              "      <td>...</td>\n",
              "      <td>...</td>\n",
              "      <td>...</td>\n",
              "      <td>...</td>\n",
              "      <td>...</td>\n",
              "      <td>...</td>\n",
              "      <td>...</td>\n",
              "      <td>...</td>\n",
              "    </tr>\n",
              "    <tr>\n",
              "      <th>115</th>\n",
              "      <td>순천 드라마세트장</td>\n",
              "      <td>[서울 달동네와 어린 시절에 보고 경험해 익숙한 셋트장에 잊혀진 기억들이 새록 새록...</td>\n",
              "      <td>리뷰없음</td>\n",
              "      <td>서울 달동네와 어린 시절에 보고 경험해 익숙한 셋트장에 잊혀진 기억들이 새록 새록특...</td>\n",
              "      <td>0.996559</td>\n",
              "      <td>0.003441</td>\n",
              "      <td>0.005893</td>\n",
              "      <td>0.994107</td>\n",
              "    </tr>\n",
              "    <tr>\n",
              "      <th>116</th>\n",
              "      <td>순천 드라마세트장</td>\n",
              "      <td>[사진찍기 좋은 날에~~^^]</td>\n",
              "      <td>리뷰없음</td>\n",
              "      <td>사진찍기 좋은 날에</td>\n",
              "      <td>0.840935</td>\n",
              "      <td>0.159065</td>\n",
              "      <td>0.005893</td>\n",
              "      <td>0.994107</td>\n",
              "    </tr>\n",
              "    <tr>\n",
              "      <th>117</th>\n",
              "      <td>순천 드라마세트장</td>\n",
              "      <td>[기분  좋은  그  어떤  날~~~   그 곳에선  그  어떠한  모습도  예쁘고...</td>\n",
              "      <td>리뷰없음</td>\n",
              "      <td>기분  좋은  그  어떤  날   그 곳에선  그  어떠한  모습도  예쁘고  사랑...</td>\n",
              "      <td>0.998302</td>\n",
              "      <td>0.001698</td>\n",
              "      <td>0.005893</td>\n",
              "      <td>0.994107</td>\n",
              "    </tr>\n",
              "    <tr>\n",
              "      <th>118</th>\n",
              "      <td>순천 드라마세트장</td>\n",
              "      <td>[재밌네요ㅎ]</td>\n",
              "      <td>리뷰없음</td>\n",
              "      <td>재밌네요ㅎ</td>\n",
              "      <td>0.989792</td>\n",
              "      <td>0.010208</td>\n",
              "      <td>0.005893</td>\n",
              "      <td>0.994107</td>\n",
              "    </tr>\n",
              "    <tr>\n",
              "      <th>119</th>\n",
              "      <td>순천 드라마세트장</td>\n",
              "      <td>[드라마세트장 재밌어요다들 교복 입고 돌아다니시던데 보기좋았어요되게 드라마생각나고 ...</td>\n",
              "      <td>리뷰없음</td>\n",
              "      <td>드라마세트장 재밌어요다들 교복 입고 돌아다니시던데 보기좋았어요되게 드라마생각나고 예...</td>\n",
              "      <td>0.997712</td>\n",
              "      <td>0.002288</td>\n",
              "      <td>0.005893</td>\n",
              "      <td>0.994107</td>\n",
              "    </tr>\n",
              "  </tbody>\n",
              "</table>\n",
              "<p>120 rows × 8 columns</p>\n",
              "</div>\n",
              "      <button class=\"colab-df-convert\" onclick=\"convertToInteractive('df-0ab706a3-b481-45a5-b331-fa2f8c021e16')\"\n",
              "              title=\"Convert this dataframe to an interactive table.\"\n",
              "              style=\"display:none;\">\n",
              "        \n",
              "  <svg xmlns=\"http://www.w3.org/2000/svg\" height=\"24px\"viewBox=\"0 0 24 24\"\n",
              "       width=\"24px\">\n",
              "    <path d=\"M0 0h24v24H0V0z\" fill=\"none\"/>\n",
              "    <path d=\"M18.56 5.44l.94 2.06.94-2.06 2.06-.94-2.06-.94-.94-2.06-.94 2.06-2.06.94zm-11 1L8.5 8.5l.94-2.06 2.06-.94-2.06-.94L8.5 2.5l-.94 2.06-2.06.94zm10 10l.94 2.06.94-2.06 2.06-.94-2.06-.94-.94-2.06-.94 2.06-2.06.94z\"/><path d=\"M17.41 7.96l-1.37-1.37c-.4-.4-.92-.59-1.43-.59-.52 0-1.04.2-1.43.59L10.3 9.45l-7.72 7.72c-.78.78-.78 2.05 0 2.83L4 21.41c.39.39.9.59 1.41.59.51 0 1.02-.2 1.41-.59l7.78-7.78 2.81-2.81c.8-.78.8-2.07 0-2.86zM5.41 20L4 18.59l7.72-7.72 1.47 1.35L5.41 20z\"/>\n",
              "  </svg>\n",
              "      </button>\n",
              "      \n",
              "  <style>\n",
              "    .colab-df-container {\n",
              "      display:flex;\n",
              "      flex-wrap:wrap;\n",
              "      gap: 12px;\n",
              "    }\n",
              "\n",
              "    .colab-df-convert {\n",
              "      background-color: #E8F0FE;\n",
              "      border: none;\n",
              "      border-radius: 50%;\n",
              "      cursor: pointer;\n",
              "      display: none;\n",
              "      fill: #1967D2;\n",
              "      height: 32px;\n",
              "      padding: 0 0 0 0;\n",
              "      width: 32px;\n",
              "    }\n",
              "\n",
              "    .colab-df-convert:hover {\n",
              "      background-color: #E2EBFA;\n",
              "      box-shadow: 0px 1px 2px rgba(60, 64, 67, 0.3), 0px 1px 3px 1px rgba(60, 64, 67, 0.15);\n",
              "      fill: #174EA6;\n",
              "    }\n",
              "\n",
              "    [theme=dark] .colab-df-convert {\n",
              "      background-color: #3B4455;\n",
              "      fill: #D2E3FC;\n",
              "    }\n",
              "\n",
              "    [theme=dark] .colab-df-convert:hover {\n",
              "      background-color: #434B5C;\n",
              "      box-shadow: 0px 1px 3px 1px rgba(0, 0, 0, 0.15);\n",
              "      filter: drop-shadow(0px 1px 2px rgba(0, 0, 0, 0.3));\n",
              "      fill: #FFFFFF;\n",
              "    }\n",
              "  </style>\n",
              "\n",
              "      <script>\n",
              "        const buttonEl =\n",
              "          document.querySelector('#df-0ab706a3-b481-45a5-b331-fa2f8c021e16 button.colab-df-convert');\n",
              "        buttonEl.style.display =\n",
              "          google.colab.kernel.accessAllowed ? 'block' : 'none';\n",
              "\n",
              "        async function convertToInteractive(key) {\n",
              "          const element = document.querySelector('#df-0ab706a3-b481-45a5-b331-fa2f8c021e16');\n",
              "          const dataTable =\n",
              "            await google.colab.kernel.invokeFunction('convertToInteractive',\n",
              "                                                     [key], {});\n",
              "          if (!dataTable) return;\n",
              "\n",
              "          const docLinkHtml = 'Like what you see? Visit the ' +\n",
              "            '<a target=\"_blank\" href=https://colab.research.google.com/notebooks/data_table.ipynb>data table notebook</a>'\n",
              "            + ' to learn more about interactive tables.';\n",
              "          element.innerHTML = '';\n",
              "          dataTable['output_type'] = 'display_data';\n",
              "          await google.colab.output.renderOutput(dataTable, element);\n",
              "          const docLink = document.createElement('div');\n",
              "          docLink.innerHTML = docLinkHtml;\n",
              "          element.appendChild(docLink);\n",
              "        }\n",
              "      </script>\n",
              "    </div>\n",
              "  </div>\n",
              "  "
            ]
          },
          "metadata": {},
          "execution_count": 30
        }
      ]
    },
    {
      "cell_type": "code",
      "source": [
        "df=review['리뷰내용_1']"
      ],
      "metadata": {
        "id": "CJ_sW2ZGpB9u"
      },
      "execution_count": null,
      "outputs": []
    },
    {
      "cell_type": "code",
      "source": [
        "df.fillna('리뷰없음',inplace=True)"
      ],
      "metadata": {
        "id": "qCP5sUqUpB_x"
      },
      "execution_count": null,
      "outputs": []
    },
    {
      "cell_type": "code",
      "source": [
        "for r in range(len(review)): #리뷰문장 개수만큼의 범위일때 긍정확률, 부정확률 계산 결과 출력\n",
        "  print(sa(df[r])) #show_probs=False이면 positive or negative만 나옴 이 항목에 대해서는 바로 밑에 나옴 "
      ],
      "metadata": {
        "colab": {
          "base_uri": "https://localhost:8080/"
        },
        "id": "LWkqJ9DTpCCJ",
        "outputId": "4397a11b-8e60-4300-d93f-a6f3afb8df8f"
      },
      "execution_count": null,
      "outputs": [
        {
          "output_type": "stream",
          "name": "stdout",
          "text": [
            "Negative\n",
            "Negative\n",
            "Negative\n",
            "Negative\n",
            "Negative\n",
            "Negative\n",
            "Negative\n",
            "Negative\n",
            "Negative\n",
            "Negative\n",
            "Negative\n",
            "Negative\n",
            "Negative\n",
            "Negative\n",
            "Negative\n",
            "Negative\n",
            "Negative\n",
            "Negative\n",
            "Negative\n",
            "Negative\n",
            "Negative\n",
            "Negative\n",
            "Negative\n",
            "Negative\n",
            "Negative\n",
            "Negative\n",
            "Negative\n",
            "Negative\n",
            "Negative\n",
            "Negative\n",
            "Negative\n",
            "Negative\n",
            "Negative\n",
            "Negative\n",
            "Negative\n",
            "Negative\n",
            "Negative\n",
            "Negative\n",
            "Negative\n",
            "Negative\n",
            "Negative\n",
            "Negative\n",
            "Negative\n",
            "Negative\n",
            "Negative\n",
            "Negative\n",
            "Negative\n",
            "Negative\n",
            "Negative\n",
            "Negative\n",
            "Negative\n",
            "Negative\n",
            "Negative\n",
            "Negative\n",
            "Negative\n",
            "Negative\n",
            "Negative\n",
            "Negative\n",
            "Negative\n",
            "Negative\n",
            "Negative\n",
            "Negative\n",
            "Negative\n",
            "Negative\n",
            "Negative\n",
            "Negative\n",
            "Negative\n",
            "Negative\n",
            "Negative\n",
            "Negative\n",
            "Negative\n",
            "Negative\n",
            "Negative\n",
            "Negative\n",
            "Negative\n",
            "Negative\n",
            "Negative\n",
            "Negative\n",
            "Negative\n",
            "Negative\n",
            "Negative\n",
            "Negative\n",
            "Negative\n",
            "Negative\n",
            "Negative\n",
            "Negative\n",
            "Negative\n",
            "Negative\n",
            "Negative\n",
            "Negative\n",
            "Negative\n",
            "Negative\n",
            "Negative\n",
            "Negative\n",
            "Negative\n",
            "Negative\n",
            "Negative\n",
            "Negative\n",
            "Negative\n",
            "Negative\n",
            "Negative\n",
            "Negative\n",
            "Negative\n",
            "Negative\n",
            "Negative\n",
            "Negative\n",
            "Negative\n",
            "Negative\n",
            "Negative\n",
            "Negative\n",
            "Negative\n",
            "Negative\n",
            "Negative\n",
            "Negative\n",
            "Negative\n",
            "Negative\n",
            "Negative\n",
            "Negative\n",
            "Negative\n",
            "Negative\n"
          ]
        }
      ]
    },
    {
      "cell_type": "code",
      "source": [
        "a=[] # 결과를 담기 위해 리스트 형태로 사전 저장\n",
        "b=[] # 결과를 담기 위해 리스트 형태로 사전 저장\n",
        "for r in range(0,len(review)):\n",
        "  result_dict=sa(df[r],show_probs=True)\n",
        "\n",
        "  neg_prob=result_dict['negative'] # Negative인 경우 neg_prob에 포함\n",
        "  pos_prob=result_dict['positive'] # Positive인 경우 pos_prob에 포함\n",
        "\n",
        "  a.append(neg_prob) # neg_prob 하나씩 추가\n",
        "  a\n",
        "  b.append(pos_prob) # neg_prob 하나씩 추가\n",
        "  b"
      ],
      "metadata": {
        "id": "35gfxBX9pCEa"
      },
      "execution_count": null,
      "outputs": []
    },
    {
      "cell_type": "code",
      "source": [
        "review['긍정확률_1']=b\n",
        "review['부정확률_1']=a"
      ],
      "metadata": {
        "id": "M6tLIAFVpCGH"
      },
      "execution_count": null,
      "outputs": []
    },
    {
      "cell_type": "code",
      "source": [
        "review.to_excel('나머지감성분석반영리뷰-다른샘플.xlsx',index=False,encoding='utf-8-sig') #완성된 데이터를 엑셀 파일 형태로 저장"
      ],
      "metadata": {
        "id": "oCjLy2s8o6th"
      },
      "execution_count": null,
      "outputs": []
    },
    {
      "cell_type": "code",
      "source": [],
      "metadata": {
        "id": "qLBJD9VVo6vs"
      },
      "execution_count": null,
      "outputs": []
    }
  ]
}