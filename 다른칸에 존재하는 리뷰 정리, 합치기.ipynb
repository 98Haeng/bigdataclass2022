{
 "cells": [
  {
   "cell_type": "code",
   "execution_count": 1,
   "metadata": {},
   "outputs": [
    {
     "data": {
      "text/html": [
       "<div>\n",
       "<style scoped>\n",
       "    .dataframe tbody tr th:only-of-type {\n",
       "        vertical-align: middle;\n",
       "    }\n",
       "\n",
       "    .dataframe tbody tr th {\n",
       "        vertical-align: top;\n",
       "    }\n",
       "\n",
       "    .dataframe thead th {\n",
       "        text-align: right;\n",
       "    }\n",
       "</style>\n",
       "<table border=\"1\" class=\"dataframe\">\n",
       "  <thead>\n",
       "    <tr style=\"text-align: right;\">\n",
       "      <th></th>\n",
       "      <th>리뷰</th>\n",
       "    </tr>\n",
       "  </thead>\n",
       "  <tbody>\n",
       "    <tr>\n",
       "      <th>0</th>\n",
       "      <td>암사동 선사주거지--&gt;신석기 시대를 체험할 수 있다</td>\n",
       "    </tr>\n",
       "    <tr>\n",
       "      <th>1</th>\n",
       "      <td>암사동 선사주거지--&gt;교과서에서만 보던 선사 유적지이다. 서울 외곽에 위치해 있어서...</td>\n",
       "    </tr>\n",
       "    <tr>\n",
       "      <th>2</th>\n",
       "      <td>암사동 선사주거지--&gt;유적지</td>\n",
       "    </tr>\n",
       "    <tr>\n",
       "      <th>3</th>\n",
       "      <td>암사동 선사주거지--&gt;아이들과 함께 하거나 어르신들 모시고 나들이 가기 좋은 곳이네...</td>\n",
       "    </tr>\n",
       "    <tr>\n",
       "      <th>4</th>\n",
       "      <td>암사동 선사주거지--&gt;아이들 봉사활동할 꺼리도 있ㄱ</td>\n",
       "    </tr>\n",
       "  </tbody>\n",
       "</table>\n",
       "</div>"
      ],
      "text/plain": [
       "                                                  리뷰\n",
       "0                       암사동 선사주거지-->신석기 시대를 체험할 수 있다\n",
       "1  암사동 선사주거지-->교과서에서만 보던 선사 유적지이다. 서울 외곽에 위치해 있어서...\n",
       "2                                    암사동 선사주거지-->유적지\n",
       "3  암사동 선사주거지-->아이들과 함께 하거나 어르신들 모시고 나들이 가기 좋은 곳이네...\n",
       "4                       암사동 선사주거지-->아이들 봉사활동할 꺼리도 있ㄱ"
      ]
     },
     "execution_count": 1,
     "metadata": {},
     "output_type": "execute_result"
    }
   ],
   "source": [
    "import pandas as pd\n",
    "import numpy as np\n",
    "df=pd.read_csv('다른 칸에 존재하는 리뷰.csv')\n",
    "df.head()"
   ]
  },
  {
   "cell_type": "code",
   "execution_count": 3,
   "metadata": {},
   "outputs": [],
   "source": [
    "df['관광지']=df.리뷰.str.split('-->').str[0]\n",
    "df['전체내용']=df.리뷰.str.split('-->').str[1]"
   ]
  },
  {
   "cell_type": "code",
   "execution_count": 4,
   "metadata": {},
   "outputs": [],
   "source": [
    "df=df[['관광지','전체내용']]"
   ]
  },
  {
   "cell_type": "code",
   "execution_count": 5,
   "metadata": {},
   "outputs": [
    {
     "data": {
      "text/html": [
       "<div>\n",
       "<style scoped>\n",
       "    .dataframe tbody tr th:only-of-type {\n",
       "        vertical-align: middle;\n",
       "    }\n",
       "\n",
       "    .dataframe tbody tr th {\n",
       "        vertical-align: top;\n",
       "    }\n",
       "\n",
       "    .dataframe thead th {\n",
       "        text-align: right;\n",
       "    }\n",
       "</style>\n",
       "<table border=\"1\" class=\"dataframe\">\n",
       "  <thead>\n",
       "    <tr style=\"text-align: right;\">\n",
       "      <th></th>\n",
       "      <th>관광지</th>\n",
       "      <th>전체내용</th>\n",
       "    </tr>\n",
       "  </thead>\n",
       "  <tbody>\n",
       "    <tr>\n",
       "      <th>0</th>\n",
       "      <td>암사동 선사주거지</td>\n",
       "      <td>신석기 시대를 체험할 수 있다</td>\n",
       "    </tr>\n",
       "    <tr>\n",
       "      <th>1</th>\n",
       "      <td>암사동 선사주거지</td>\n",
       "      <td>교과서에서만 보던 선사 유적지이다. 서울 외곽에 위치해 있어서 대중됴통을 이용하기 ...</td>\n",
       "    </tr>\n",
       "    <tr>\n",
       "      <th>2</th>\n",
       "      <td>암사동 선사주거지</td>\n",
       "      <td>유적지</td>\n",
       "    </tr>\n",
       "    <tr>\n",
       "      <th>3</th>\n",
       "      <td>암사동 선사주거지</td>\n",
       "      <td>아이들과 함께 하거나 어르신들 모시고 나들이 가기 좋은 곳이네요. 온 가족이 가족 ...</td>\n",
       "    </tr>\n",
       "    <tr>\n",
       "      <th>4</th>\n",
       "      <td>암사동 선사주거지</td>\n",
       "      <td>아이들 봉사활동할 꺼리도 있ㄱ</td>\n",
       "    </tr>\n",
       "  </tbody>\n",
       "</table>\n",
       "</div>"
      ],
      "text/plain": [
       "         관광지                                               전체내용\n",
       "0  암사동 선사주거지                                   신석기 시대를 체험할 수 있다\n",
       "1  암사동 선사주거지  교과서에서만 보던 선사 유적지이다. 서울 외곽에 위치해 있어서 대중됴통을 이용하기 ...\n",
       "2  암사동 선사주거지                                                유적지\n",
       "3  암사동 선사주거지  아이들과 함께 하거나 어르신들 모시고 나들이 가기 좋은 곳이네요. 온 가족이 가족 ...\n",
       "4  암사동 선사주거지                                   아이들 봉사활동할 꺼리도 있ㄱ"
      ]
     },
     "execution_count": 5,
     "metadata": {},
     "output_type": "execute_result"
    }
   ],
   "source": [
    "df.head()"
   ]
  },
  {
   "cell_type": "code",
   "execution_count": 6,
   "metadata": {},
   "outputs": [],
   "source": [
    "df.to_csv('추가관광지리뷰최종리뷰.csv',encoding='utf-8-sig',index=False)"
   ]
  },
  {
   "cell_type": "code",
   "execution_count": 9,
   "metadata": {},
   "outputs": [
    {
     "data": {
      "text/html": [
       "<div>\n",
       "<style scoped>\n",
       "    .dataframe tbody tr th:only-of-type {\n",
       "        vertical-align: middle;\n",
       "    }\n",
       "\n",
       "    .dataframe tbody tr th {\n",
       "        vertical-align: top;\n",
       "    }\n",
       "\n",
       "    .dataframe thead th {\n",
       "        text-align: right;\n",
       "    }\n",
       "</style>\n",
       "<table border=\"1\" class=\"dataframe\">\n",
       "  <thead>\n",
       "    <tr style=\"text-align: right;\">\n",
       "      <th></th>\n",
       "      <th>관광지</th>\n",
       "      <th>전체내용</th>\n",
       "    </tr>\n",
       "  </thead>\n",
       "  <tbody>\n",
       "    <tr>\n",
       "      <th>0</th>\n",
       "      <td>암사동 선사주거지</td>\n",
       "      <td>신석기 시대를 체험할 수 있다</td>\n",
       "    </tr>\n",
       "    <tr>\n",
       "      <th>1</th>\n",
       "      <td>암사동 선사주거지</td>\n",
       "      <td>교과서에서만 보던 선사 유적지이다. 서울 외곽에 위치해 있어서 대중됴통을 이용하기 ...</td>\n",
       "    </tr>\n",
       "    <tr>\n",
       "      <th>2</th>\n",
       "      <td>암사동 선사주거지</td>\n",
       "      <td>유적지</td>\n",
       "    </tr>\n",
       "    <tr>\n",
       "      <th>3</th>\n",
       "      <td>암사동 선사주거지</td>\n",
       "      <td>아이들과 함께 하거나 어르신들 모시고 나들이 가기 좋은 곳이네요. 온 가족이 가족 ...</td>\n",
       "    </tr>\n",
       "    <tr>\n",
       "      <th>4</th>\n",
       "      <td>암사동 선사주거지</td>\n",
       "      <td>아이들 봉사활동할 꺼리도 있ㄱ</td>\n",
       "    </tr>\n",
       "    <tr>\n",
       "      <th>...</th>\n",
       "      <td>...</td>\n",
       "      <td>...</td>\n",
       "    </tr>\n",
       "    <tr>\n",
       "      <th>533</th>\n",
       "      <td>벌교 홍교, 대한다원</td>\n",
       "      <td>저는 녹차밭을 별로 기대하고 가지 않았습니다.. 처음에는 안 들리고 지나가려고 했었...</td>\n",
       "    </tr>\n",
       "    <tr>\n",
       "      <th>534</th>\n",
       "      <td>벌교 홍교, 대한다원</td>\n",
       "      <td>보성 녹차밭</td>\n",
       "    </tr>\n",
       "    <tr>\n",
       "      <th>535</th>\n",
       "      <td>벌교 홍교, 대한다원</td>\n",
       "      <td>참 멋지고 이쁘네요말로만듣고 이번에 가봤는데 좋았어요또 가보고싶었고요추천해요혼자갔는...</td>\n",
       "    </tr>\n",
       "    <tr>\n",
       "      <th>536</th>\n",
       "      <td>벌교 홍교, 대한다원</td>\n",
       "      <td>비오는 겨울 풍경도 아름다운 다원...</td>\n",
       "    </tr>\n",
       "    <tr>\n",
       "      <th>537</th>\n",
       "      <td>벌교 홍교, 대한다원</td>\n",
       "      <td>비오는 겨울 다원 산책은 무모한 도전이었지만 또 다른 경험...다우너의 초록색은 없...</td>\n",
       "    </tr>\n",
       "  </tbody>\n",
       "</table>\n",
       "<p>538 rows × 2 columns</p>\n",
       "</div>"
      ],
      "text/plain": [
       "             관광지                                               전체내용\n",
       "0      암사동 선사주거지                                   신석기 시대를 체험할 수 있다\n",
       "1      암사동 선사주거지  교과서에서만 보던 선사 유적지이다. 서울 외곽에 위치해 있어서 대중됴통을 이용하기 ...\n",
       "2      암사동 선사주거지                                                유적지\n",
       "3      암사동 선사주거지  아이들과 함께 하거나 어르신들 모시고 나들이 가기 좋은 곳이네요. 온 가족이 가족 ...\n",
       "4      암사동 선사주거지                                   아이들 봉사활동할 꺼리도 있ㄱ\n",
       "..           ...                                                ...\n",
       "533  벌교 홍교, 대한다원  저는 녹차밭을 별로 기대하고 가지 않았습니다.. 처음에는 안 들리고 지나가려고 했었...\n",
       "534  벌교 홍교, 대한다원                                             보성 녹차밭\n",
       "535  벌교 홍교, 대한다원  참 멋지고 이쁘네요말로만듣고 이번에 가봤는데 좋았어요또 가보고싶었고요추천해요혼자갔는...\n",
       "536  벌교 홍교, 대한다원                              비오는 겨울 풍경도 아름다운 다원...\n",
       "537  벌교 홍교, 대한다원  비오는 겨울 다원 산책은 무모한 도전이었지만 또 다른 경험...다우너의 초록색은 없...\n",
       "\n",
       "[538 rows x 2 columns]"
      ]
     },
     "execution_count": 9,
     "metadata": {},
     "output_type": "execute_result"
    }
   ],
   "source": [
    "df"
   ]
  },
  {
   "cell_type": "code",
   "execution_count": 16,
   "metadata": {},
   "outputs": [
    {
     "data": {
      "text/html": [
       "<div>\n",
       "<style scoped>\n",
       "    .dataframe tbody tr th:only-of-type {\n",
       "        vertical-align: middle;\n",
       "    }\n",
       "\n",
       "    .dataframe tbody tr th {\n",
       "        vertical-align: top;\n",
       "    }\n",
       "\n",
       "    .dataframe thead th {\n",
       "        text-align: right;\n",
       "    }\n",
       "</style>\n",
       "<table border=\"1\" class=\"dataframe\">\n",
       "  <thead>\n",
       "    <tr style=\"text-align: right;\">\n",
       "      <th></th>\n",
       "      <th>관광지</th>\n",
       "      <th>전체내용</th>\n",
       "    </tr>\n",
       "  </thead>\n",
       "  <tbody>\n",
       "    <tr>\n",
       "      <th>0</th>\n",
       "      <td>경복궁</td>\n",
       "      <td>대한민국의 역사 : 대한민국의 역사가 잠들어 있는 곳. 서울을 방문했다면 꼭 방문해...</td>\n",
       "    </tr>\n",
       "    <tr>\n",
       "      <th>1</th>\n",
       "      <td>경복궁</td>\n",
       "      <td>국민이 공감하는 장소 : 경복궁은 국민들이 자주 찾는곳으로 작성자는 주말에 자주 가...</td>\n",
       "    </tr>\n",
       "    <tr>\n",
       "      <th>2</th>\n",
       "      <td>경복궁</td>\n",
       "      <td>산책하기 좋은 경복궁 : 날씨 좋은 날 종종 산책하러 경복궁에 가는데 마음이 편온해...</td>\n",
       "    </tr>\n",
       "    <tr>\n",
       "      <th>3</th>\n",
       "      <td>경복궁</td>\n",
       "      <td>Good : Goooooood 다 좋습니다 다음에 또 오고 싶네요 근처 관광지도많고...</td>\n",
       "    </tr>\n",
       "    <tr>\n",
       "      <th>4</th>\n",
       "      <td>경복궁</td>\n",
       "      <td>가족단위로 방문하기 좋은곳 : 요새 더더욱 코로나로 인해 사람 방문이 적음. 두자녀...</td>\n",
       "    </tr>\n",
       "  </tbody>\n",
       "</table>\n",
       "</div>"
      ],
      "text/plain": [
       "   관광지                                               전체내용\n",
       "0  경복궁  대한민국의 역사 : 대한민국의 역사가 잠들어 있는 곳. 서울을 방문했다면 꼭 방문해...\n",
       "1  경복궁  국민이 공감하는 장소 : 경복궁은 국민들이 자주 찾는곳으로 작성자는 주말에 자주 가...\n",
       "2  경복궁  산책하기 좋은 경복궁 : 날씨 좋은 날 종종 산책하러 경복궁에 가는데 마음이 편온해...\n",
       "3  경복궁  Good : Goooooood 다 좋습니다 다음에 또 오고 싶네요 근처 관광지도많고...\n",
       "4  경복궁  가족단위로 방문하기 좋은곳 : 요새 더더욱 코로나로 인해 사람 방문이 적음. 두자녀..."
      ]
     },
     "execution_count": 16,
     "metadata": {},
     "output_type": "execute_result"
    }
   ],
   "source": [
    "df_all=pd.read_csv('최종리뷰형태.csv')\n",
    "df_all.head()"
   ]
  },
  {
   "cell_type": "code",
   "execution_count": 17,
   "metadata": {},
   "outputs": [
    {
     "data": {
      "text/plain": [
       "(4698, 2)"
      ]
     },
     "execution_count": 17,
     "metadata": {},
     "output_type": "execute_result"
    }
   ],
   "source": [
    "df_all.shape"
   ]
  },
  {
   "cell_type": "code",
   "execution_count": 18,
   "metadata": {},
   "outputs": [
    {
     "data": {
      "text/html": [
       "<div>\n",
       "<style scoped>\n",
       "    .dataframe tbody tr th:only-of-type {\n",
       "        vertical-align: middle;\n",
       "    }\n",
       "\n",
       "    .dataframe tbody tr th {\n",
       "        vertical-align: top;\n",
       "    }\n",
       "\n",
       "    .dataframe thead th {\n",
       "        text-align: right;\n",
       "    }\n",
       "</style>\n",
       "<table border=\"1\" class=\"dataframe\">\n",
       "  <thead>\n",
       "    <tr style=\"text-align: right;\">\n",
       "      <th></th>\n",
       "      <th>관광지</th>\n",
       "      <th>전체내용</th>\n",
       "    </tr>\n",
       "  </thead>\n",
       "  <tbody>\n",
       "    <tr>\n",
       "      <th>0</th>\n",
       "      <td>경복궁</td>\n",
       "      <td>대한민국의 역사 : 대한민국의 역사가 잠들어 있는 곳. 서울을 방문했다면 꼭 방문해...</td>\n",
       "    </tr>\n",
       "    <tr>\n",
       "      <th>1</th>\n",
       "      <td>경복궁</td>\n",
       "      <td>국민이 공감하는 장소 : 경복궁은 국민들이 자주 찾는곳으로 작성자는 주말에 자주 가...</td>\n",
       "    </tr>\n",
       "    <tr>\n",
       "      <th>2</th>\n",
       "      <td>경복궁</td>\n",
       "      <td>산책하기 좋은 경복궁 : 날씨 좋은 날 종종 산책하러 경복궁에 가는데 마음이 편온해...</td>\n",
       "    </tr>\n",
       "    <tr>\n",
       "      <th>3</th>\n",
       "      <td>경복궁</td>\n",
       "      <td>Good : Goooooood 다 좋습니다 다음에 또 오고 싶네요 근처 관광지도많고...</td>\n",
       "    </tr>\n",
       "    <tr>\n",
       "      <th>4</th>\n",
       "      <td>경복궁</td>\n",
       "      <td>가족단위로 방문하기 좋은곳 : 요새 더더욱 코로나로 인해 사람 방문이 적음. 두자녀...</td>\n",
       "    </tr>\n",
       "    <tr>\n",
       "      <th>...</th>\n",
       "      <td>...</td>\n",
       "      <td>...</td>\n",
       "    </tr>\n",
       "    <tr>\n",
       "      <th>533</th>\n",
       "      <td>벌교 홍교, 대한다원</td>\n",
       "      <td>저는 녹차밭을 별로 기대하고 가지 않았습니다.. 처음에는 안 들리고 지나가려고 했었...</td>\n",
       "    </tr>\n",
       "    <tr>\n",
       "      <th>534</th>\n",
       "      <td>벌교 홍교, 대한다원</td>\n",
       "      <td>보성 녹차밭</td>\n",
       "    </tr>\n",
       "    <tr>\n",
       "      <th>535</th>\n",
       "      <td>벌교 홍교, 대한다원</td>\n",
       "      <td>참 멋지고 이쁘네요말로만듣고 이번에 가봤는데 좋았어요또 가보고싶었고요추천해요혼자갔는...</td>\n",
       "    </tr>\n",
       "    <tr>\n",
       "      <th>536</th>\n",
       "      <td>벌교 홍교, 대한다원</td>\n",
       "      <td>비오는 겨울 풍경도 아름다운 다원...</td>\n",
       "    </tr>\n",
       "    <tr>\n",
       "      <th>537</th>\n",
       "      <td>벌교 홍교, 대한다원</td>\n",
       "      <td>비오는 겨울 다원 산책은 무모한 도전이었지만 또 다른 경험...다우너의 초록색은 없...</td>\n",
       "    </tr>\n",
       "  </tbody>\n",
       "</table>\n",
       "<p>5236 rows × 2 columns</p>\n",
       "</div>"
      ],
      "text/plain": [
       "             관광지                                               전체내용\n",
       "0            경복궁  대한민국의 역사 : 대한민국의 역사가 잠들어 있는 곳. 서울을 방문했다면 꼭 방문해...\n",
       "1            경복궁  국민이 공감하는 장소 : 경복궁은 국민들이 자주 찾는곳으로 작성자는 주말에 자주 가...\n",
       "2            경복궁  산책하기 좋은 경복궁 : 날씨 좋은 날 종종 산책하러 경복궁에 가는데 마음이 편온해...\n",
       "3            경복궁  Good : Goooooood 다 좋습니다 다음에 또 오고 싶네요 근처 관광지도많고...\n",
       "4            경복궁  가족단위로 방문하기 좋은곳 : 요새 더더욱 코로나로 인해 사람 방문이 적음. 두자녀...\n",
       "..           ...                                                ...\n",
       "533  벌교 홍교, 대한다원  저는 녹차밭을 별로 기대하고 가지 않았습니다.. 처음에는 안 들리고 지나가려고 했었...\n",
       "534  벌교 홍교, 대한다원                                             보성 녹차밭\n",
       "535  벌교 홍교, 대한다원  참 멋지고 이쁘네요말로만듣고 이번에 가봤는데 좋았어요또 가보고싶었고요추천해요혼자갔는...\n",
       "536  벌교 홍교, 대한다원                              비오는 겨울 풍경도 아름다운 다원...\n",
       "537  벌교 홍교, 대한다원  비오는 겨울 다원 산책은 무모한 도전이었지만 또 다른 경험...다우너의 초록색은 없...\n",
       "\n",
       "[5236 rows x 2 columns]"
      ]
     },
     "execution_count": 18,
     "metadata": {},
     "output_type": "execute_result"
    }
   ],
   "source": [
    "df_alls=pd.concat([df_all,df])\n",
    "df_alls"
   ]
  },
  {
   "cell_type": "code",
   "execution_count": 19,
   "metadata": {},
   "outputs": [],
   "source": [
    "df_alls.to_csv('지이인짜최종리뷰데이터.csv',index=False,encoding='utf-8-sig')"
   ]
  }
 ],
 "metadata": {
  "kernelspec": {
   "display_name": "Python 3",
   "language": "python",
   "name": "python3"
  },
  "language_info": {
   "codemirror_mode": {
    "name": "ipython",
    "version": 3
   },
   "file_extension": ".py",
   "mimetype": "text/x-python",
   "name": "python",
   "nbconvert_exporter": "python",
   "pygments_lexer": "ipython3",
   "version": "3.8.5"
  }
 },
 "nbformat": 4,
 "nbformat_minor": 4
}
